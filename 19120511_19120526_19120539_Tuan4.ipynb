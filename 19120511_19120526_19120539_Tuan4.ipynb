{
  "nbformat": 4,
  "nbformat_minor": 0,
  "metadata": {
    "colab": {
      "provenance": []
    },
    "kernelspec": {
      "name": "python3",
      "display_name": "Python 3"
    },
    "language_info": {
      "name": "python"
    },
    "gpuClass": "standard"
  },
  "cells": [
    {
      "cell_type": "markdown",
      "source": [
        "| MSSV     | Họ và tên       |\n",
        "|----------|-----------------|\n",
        "| 19120511 | Võ Văn Hiếu     |\n",
        "| 19120526 | Huỳnh Đức Huy   |\n",
        "| 19120539 | Vương Thế Khang |"
      ],
      "metadata": {
        "id": "q3FS2-qd2Cxf"
      }
    },
    {
      "cell_type": "markdown",
      "source": [
        "## Import"
      ],
      "metadata": {
        "id": "Fu2wboY12NxU"
      }
    },
    {
      "cell_type": "code",
      "execution_count": 1,
      "metadata": {
        "id": "SCSBj3D-05Dp"
      },
      "outputs": [],
      "source": [
        "import datetime as dt\n",
        "import pandas as pd\n",
        "import numpy as np\n",
        "import matplotlib.pyplot as plt\n",
        "import seaborn as sns\n",
        "from collections import Counter\n",
        "from scipy import stats\n",
        "from sklearn.preprocessing import MinMaxScaler\n",
        "\n",
        "pd.set_option('display.max_colwidth', 9999)\n",
        "sns.set_theme(style = 'whitegrid')"
      ]
    },
    {
      "cell_type": "markdown",
      "source": [
        "# A. THU THẬP DỮ LIỆU"
      ],
      "metadata": {
        "id": "xQOsv7vp27xU"
      }
    },
    {
      "cell_type": "markdown",
      "source": [
        "Bộ dữ liệu mà nhóm chọn là bộ dữ liệu doanh số bán ô tô bao gồm thông tin về các loại ô tô khác nhau. Bộ dữ liệu này được lấy từ Analytixlabs cho mục đích dự đoán.\n",
        "\n",
        "Các file dữ liệu này bao gồm:\n",
        "- File \"Car_sales.csv\": bộ dữ liệu được thu thập từ [Kaggle](https://www.kaggle.com/datasets/gagandeep16/car-sales).\n",
        "\n",
        "Người thu thập dữ liệu: GaganBhatia [@gagandeep16](https://www.kaggle.com/gagandeep16)\n",
        "\n",
        "License: CC0 1.0 Universal (CC0 1.0) Public Domain Dedication"
      ],
      "metadata": {
        "id": "0_tetSgT4Rm0"
      }
    },
    {
      "cell_type": "markdown",
      "source": [
        "# B. KHÁM PHÁ DỮ LIỆU"
      ],
      "metadata": {
        "id": "ckDuGmk93_rj"
      }
    },
    {
      "cell_type": "markdown",
      "source": [
        "Đầu tiên, ta sẽ xem thử bộ dữ liệu trông như thế nào. Đọc dữ liệu từ file \"Car_sales.csv\" và lưu vào dataframe `car_df`."
      ],
      "metadata": {
        "id": "mQqM58no4BnD"
      }
    },
    {
      "cell_type": "code",
      "source": [
        "car_df = pd.read_csv('https://raw.githubusercontent.com/vt-khang/KHDLUD_Tuan4/main/Car_sales.csv')\n",
        "car_df.head()"
      ],
      "metadata": {
        "colab": {
          "base_uri": "https://localhost:8080/",
          "height": 206
        },
        "id": "gNexQo512Qz2",
        "outputId": "187947a1-9240-460f-ab39-c712430340a5"
      },
      "execution_count": 2,
      "outputs": [
        {
          "output_type": "execute_result",
          "data": {
            "text/plain": [
              "  Manufacturer    Model  Sales_in_thousands  __year_resale_value Vehicle_type  \\\n",
              "0        Acura  Integra              16.919               16.360    Passenger   \n",
              "1        Acura       TL              39.384               19.875    Passenger   \n",
              "2        Acura       CL              14.114               18.225    Passenger   \n",
              "3        Acura       RL               8.588               29.725    Passenger   \n",
              "4         Audi       A4              20.397               22.255    Passenger   \n",
              "\n",
              "   Price_in_thousands  Engine_size  Horsepower  Wheelbase  Width  Length  \\\n",
              "0               21.50          1.8       140.0      101.2   67.3   172.4   \n",
              "1               28.40          3.2       225.0      108.1   70.3   192.9   \n",
              "2                 NaN          3.2       225.0      106.9   70.6   192.0   \n",
              "3               42.00          3.5       210.0      114.6   71.4   196.6   \n",
              "4               23.99          1.8       150.0      102.6   68.2   178.0   \n",
              "\n",
              "   Curb_weight  Fuel_capacity  Fuel_efficiency Latest_Launch  \\\n",
              "0        2.639           13.2             28.0      2/2/2012   \n",
              "1        3.517           17.2             25.0      6/3/2011   \n",
              "2        3.470           17.2             26.0      1/4/2012   \n",
              "3        3.850           18.0             22.0     3/10/2011   \n",
              "4        2.998           16.4             27.0     10/8/2011   \n",
              "\n",
              "   Power_perf_factor  \n",
              "0          58.280150  \n",
              "1          91.370778  \n",
              "2                NaN  \n",
              "3          91.389779  \n",
              "4          62.777639  "
            ],
            "text/html": [
              "\n",
              "  <div id=\"df-d5bcac47-eab3-44cd-a50b-978ab0da7f76\">\n",
              "    <div class=\"colab-df-container\">\n",
              "      <div>\n",
              "<style scoped>\n",
              "    .dataframe tbody tr th:only-of-type {\n",
              "        vertical-align: middle;\n",
              "    }\n",
              "\n",
              "    .dataframe tbody tr th {\n",
              "        vertical-align: top;\n",
              "    }\n",
              "\n",
              "    .dataframe thead th {\n",
              "        text-align: right;\n",
              "    }\n",
              "</style>\n",
              "<table border=\"1\" class=\"dataframe\">\n",
              "  <thead>\n",
              "    <tr style=\"text-align: right;\">\n",
              "      <th></th>\n",
              "      <th>Manufacturer</th>\n",
              "      <th>Model</th>\n",
              "      <th>Sales_in_thousands</th>\n",
              "      <th>__year_resale_value</th>\n",
              "      <th>Vehicle_type</th>\n",
              "      <th>Price_in_thousands</th>\n",
              "      <th>Engine_size</th>\n",
              "      <th>Horsepower</th>\n",
              "      <th>Wheelbase</th>\n",
              "      <th>Width</th>\n",
              "      <th>Length</th>\n",
              "      <th>Curb_weight</th>\n",
              "      <th>Fuel_capacity</th>\n",
              "      <th>Fuel_efficiency</th>\n",
              "      <th>Latest_Launch</th>\n",
              "      <th>Power_perf_factor</th>\n",
              "    </tr>\n",
              "  </thead>\n",
              "  <tbody>\n",
              "    <tr>\n",
              "      <th>0</th>\n",
              "      <td>Acura</td>\n",
              "      <td>Integra</td>\n",
              "      <td>16.919</td>\n",
              "      <td>16.360</td>\n",
              "      <td>Passenger</td>\n",
              "      <td>21.50</td>\n",
              "      <td>1.8</td>\n",
              "      <td>140.0</td>\n",
              "      <td>101.2</td>\n",
              "      <td>67.3</td>\n",
              "      <td>172.4</td>\n",
              "      <td>2.639</td>\n",
              "      <td>13.2</td>\n",
              "      <td>28.0</td>\n",
              "      <td>2/2/2012</td>\n",
              "      <td>58.280150</td>\n",
              "    </tr>\n",
              "    <tr>\n",
              "      <th>1</th>\n",
              "      <td>Acura</td>\n",
              "      <td>TL</td>\n",
              "      <td>39.384</td>\n",
              "      <td>19.875</td>\n",
              "      <td>Passenger</td>\n",
              "      <td>28.40</td>\n",
              "      <td>3.2</td>\n",
              "      <td>225.0</td>\n",
              "      <td>108.1</td>\n",
              "      <td>70.3</td>\n",
              "      <td>192.9</td>\n",
              "      <td>3.517</td>\n",
              "      <td>17.2</td>\n",
              "      <td>25.0</td>\n",
              "      <td>6/3/2011</td>\n",
              "      <td>91.370778</td>\n",
              "    </tr>\n",
              "    <tr>\n",
              "      <th>2</th>\n",
              "      <td>Acura</td>\n",
              "      <td>CL</td>\n",
              "      <td>14.114</td>\n",
              "      <td>18.225</td>\n",
              "      <td>Passenger</td>\n",
              "      <td>NaN</td>\n",
              "      <td>3.2</td>\n",
              "      <td>225.0</td>\n",
              "      <td>106.9</td>\n",
              "      <td>70.6</td>\n",
              "      <td>192.0</td>\n",
              "      <td>3.470</td>\n",
              "      <td>17.2</td>\n",
              "      <td>26.0</td>\n",
              "      <td>1/4/2012</td>\n",
              "      <td>NaN</td>\n",
              "    </tr>\n",
              "    <tr>\n",
              "      <th>3</th>\n",
              "      <td>Acura</td>\n",
              "      <td>RL</td>\n",
              "      <td>8.588</td>\n",
              "      <td>29.725</td>\n",
              "      <td>Passenger</td>\n",
              "      <td>42.00</td>\n",
              "      <td>3.5</td>\n",
              "      <td>210.0</td>\n",
              "      <td>114.6</td>\n",
              "      <td>71.4</td>\n",
              "      <td>196.6</td>\n",
              "      <td>3.850</td>\n",
              "      <td>18.0</td>\n",
              "      <td>22.0</td>\n",
              "      <td>3/10/2011</td>\n",
              "      <td>91.389779</td>\n",
              "    </tr>\n",
              "    <tr>\n",
              "      <th>4</th>\n",
              "      <td>Audi</td>\n",
              "      <td>A4</td>\n",
              "      <td>20.397</td>\n",
              "      <td>22.255</td>\n",
              "      <td>Passenger</td>\n",
              "      <td>23.99</td>\n",
              "      <td>1.8</td>\n",
              "      <td>150.0</td>\n",
              "      <td>102.6</td>\n",
              "      <td>68.2</td>\n",
              "      <td>178.0</td>\n",
              "      <td>2.998</td>\n",
              "      <td>16.4</td>\n",
              "      <td>27.0</td>\n",
              "      <td>10/8/2011</td>\n",
              "      <td>62.777639</td>\n",
              "    </tr>\n",
              "  </tbody>\n",
              "</table>\n",
              "</div>\n",
              "      <button class=\"colab-df-convert\" onclick=\"convertToInteractive('df-d5bcac47-eab3-44cd-a50b-978ab0da7f76')\"\n",
              "              title=\"Convert this dataframe to an interactive table.\"\n",
              "              style=\"display:none;\">\n",
              "        \n",
              "  <svg xmlns=\"http://www.w3.org/2000/svg\" height=\"24px\"viewBox=\"0 0 24 24\"\n",
              "       width=\"24px\">\n",
              "    <path d=\"M0 0h24v24H0V0z\" fill=\"none\"/>\n",
              "    <path d=\"M18.56 5.44l.94 2.06.94-2.06 2.06-.94-2.06-.94-.94-2.06-.94 2.06-2.06.94zm-11 1L8.5 8.5l.94-2.06 2.06-.94-2.06-.94L8.5 2.5l-.94 2.06-2.06.94zm10 10l.94 2.06.94-2.06 2.06-.94-2.06-.94-.94-2.06-.94 2.06-2.06.94z\"/><path d=\"M17.41 7.96l-1.37-1.37c-.4-.4-.92-.59-1.43-.59-.52 0-1.04.2-1.43.59L10.3 9.45l-7.72 7.72c-.78.78-.78 2.05 0 2.83L4 21.41c.39.39.9.59 1.41.59.51 0 1.02-.2 1.41-.59l7.78-7.78 2.81-2.81c.8-.78.8-2.07 0-2.86zM5.41 20L4 18.59l7.72-7.72 1.47 1.35L5.41 20z\"/>\n",
              "  </svg>\n",
              "      </button>\n",
              "      \n",
              "  <style>\n",
              "    .colab-df-container {\n",
              "      display:flex;\n",
              "      flex-wrap:wrap;\n",
              "      gap: 12px;\n",
              "    }\n",
              "\n",
              "    .colab-df-convert {\n",
              "      background-color: #E8F0FE;\n",
              "      border: none;\n",
              "      border-radius: 50%;\n",
              "      cursor: pointer;\n",
              "      display: none;\n",
              "      fill: #1967D2;\n",
              "      height: 32px;\n",
              "      padding: 0 0 0 0;\n",
              "      width: 32px;\n",
              "    }\n",
              "\n",
              "    .colab-df-convert:hover {\n",
              "      background-color: #E2EBFA;\n",
              "      box-shadow: 0px 1px 2px rgba(60, 64, 67, 0.3), 0px 1px 3px 1px rgba(60, 64, 67, 0.15);\n",
              "      fill: #174EA6;\n",
              "    }\n",
              "\n",
              "    [theme=dark] .colab-df-convert {\n",
              "      background-color: #3B4455;\n",
              "      fill: #D2E3FC;\n",
              "    }\n",
              "\n",
              "    [theme=dark] .colab-df-convert:hover {\n",
              "      background-color: #434B5C;\n",
              "      box-shadow: 0px 1px 3px 1px rgba(0, 0, 0, 0.15);\n",
              "      filter: drop-shadow(0px 1px 2px rgba(0, 0, 0, 0.3));\n",
              "      fill: #FFFFFF;\n",
              "    }\n",
              "  </style>\n",
              "\n",
              "      <script>\n",
              "        const buttonEl =\n",
              "          document.querySelector('#df-d5bcac47-eab3-44cd-a50b-978ab0da7f76 button.colab-df-convert');\n",
              "        buttonEl.style.display =\n",
              "          google.colab.kernel.accessAllowed ? 'block' : 'none';\n",
              "\n",
              "        async function convertToInteractive(key) {\n",
              "          const element = document.querySelector('#df-d5bcac47-eab3-44cd-a50b-978ab0da7f76');\n",
              "          const dataTable =\n",
              "            await google.colab.kernel.invokeFunction('convertToInteractive',\n",
              "                                                     [key], {});\n",
              "          if (!dataTable) return;\n",
              "\n",
              "          const docLinkHtml = 'Like what you see? Visit the ' +\n",
              "            '<a target=\"_blank\" href=https://colab.research.google.com/notebooks/data_table.ipynb>data table notebook</a>'\n",
              "            + ' to learn more about interactive tables.';\n",
              "          element.innerHTML = '';\n",
              "          dataTable['output_type'] = 'display_data';\n",
              "          await google.colab.output.renderOutput(dataTable, element);\n",
              "          const docLink = document.createElement('div');\n",
              "          docLink.innerHTML = docLinkHtml;\n",
              "          element.appendChild(docLink);\n",
              "        }\n",
              "      </script>\n",
              "    </div>\n",
              "  </div>\n",
              "  "
            ]
          },
          "metadata": {},
          "execution_count": 2
        }
      ]
    },
    {
      "cell_type": "markdown",
      "source": [
        "### Dữ liệu có bao nhiêu dòng và bao nhiêu cột?"
      ],
      "metadata": {
        "id": "xJXecZNP6T99"
      }
    },
    {
      "cell_type": "code",
      "source": [
        "car_df.shape"
      ],
      "metadata": {
        "colab": {
          "base_uri": "https://localhost:8080/"
        },
        "id": "cMWqlFaZ32yR",
        "outputId": "096e73d8-3797-4888-d45d-8b6a17306c59"
      },
      "execution_count": 3,
      "outputs": [
        {
          "output_type": "execute_result",
          "data": {
            "text/plain": [
              "(157, 16)"
            ]
          },
          "metadata": {},
          "execution_count": 3
        }
      ]
    },
    {
      "cell_type": "markdown",
      "source": [
        "Vậy dữ liệu có kích thước **157 dòng x 16 cột**."
      ],
      "metadata": {
        "id": "QJiyyTi96dCk"
      }
    },
    {
      "cell_type": "markdown",
      "source": [
        "### Mỗi dòng có ý nghĩa gì? Có vấn đề các dòng có ý nghĩa khác nhau không?"
      ],
      "metadata": {
        "id": "KXk44ZLb6g1G"
      }
    },
    {
      "cell_type": "markdown",
      "source": [
        "Quan sát sơ bộ dữ liệu ta thấy mỗi dòng chứa thông tin và doanh số bán hàng của một mẫu ô tô, có vẻ như không có vấn đề các dòng có ý nghĩa khác nhau."
      ],
      "metadata": {
        "id": "cwqG_9y96m3N"
      }
    },
    {
      "cell_type": "markdown",
      "source": [
        "### Dữ liệu có các dòng bị lặp không?"
      ],
      "metadata": {
        "id": "ju5PHpic6xxd"
      }
    },
    {
      "cell_type": "markdown",
      "source": [
        "Kiểm tra xem dữ liệu có các dòng bị lặp không và lưu kết quả vào biến `have_duplicated_row`. Biến này sẽ có giá trị True nếu dữ liệu có các dòng bị lặp và có giá trị False nếu ngược lại."
      ],
      "metadata": {
        "id": "HQrsYtpF61Il"
      }
    },
    {
      "cell_type": "code",
      "source": [
        "have_duplicated_row = any(car_df.duplicated(subset = ['Manufacturer', 'Model']))\n",
        "have_duplicated_row"
      ],
      "metadata": {
        "colab": {
          "base_uri": "https://localhost:8080/"
        },
        "id": "AMdF76N96XLV",
        "outputId": "2621682a-645a-415b-ea35-42ea6aaebadb"
      },
      "execution_count": 4,
      "outputs": [
        {
          "output_type": "execute_result",
          "data": {
            "text/plain": [
              "False"
            ]
          },
          "metadata": {},
          "execution_count": 4
        }
      ]
    },
    {
      "cell_type": "markdown",
      "source": [
        "Như vậy, không có dòng nào bị lặp lại."
      ],
      "metadata": {
        "id": "qJ96d3vc69um"
      }
    },
    {
      "cell_type": "markdown",
      "source": [
        "### Mỗi cột có ý nghĩa gì?"
      ],
      "metadata": {
        "id": "54B6f8b_7TkL"
      }
    },
    {
      "cell_type": "markdown",
      "source": [
        "| Cột                 | Ý nghĩa                     |\n",
        "| ------------------- | --------------------------- |\n",
        "| Manufacturer        | Hãng sản xuất               |\n",
        "| Model               | Mẫu xe                      |\n",
        "| Sales_in_thousands  | Doanh thu                   |\n",
        "| __year_resale_value | Giá trị của năm bán lại     |\n",
        "| Vehicle_type        | Loại phương tiện giao thông |\n",
        "| Price_in_thousands  | Giá thành                   |\n",
        "| Engine_size         | Kích thước động cơ          |\n",
        "| Horsepower          | Mã lực                      |\n",
        "| Wheelbase           | Chiều dài cơ sở             |\n",
        "| Width               | Chiều rộng                  |\n",
        "| Length              | Chiều dài                   |\n",
        "| Curb_weight         | Trọng lượng ướt             |\n",
        "| Fuel_capacity       | Lượng nhiên liệu            |\n",
        "| Fuel_efficiency     | Tiết kiệm nhiên liệu        |\n",
        "| Latest_Launch       | Lần ra mắt gần nhất         |\n",
        "| Power_perf_factor   | Hệ số công suất             |"
      ],
      "metadata": {
        "id": "rjIncFO17qpG"
      }
    },
    {
      "cell_type": "markdown",
      "source": [
        "### Mỗi cột hiện đang có kiểu dữ liệu gì?"
      ],
      "metadata": {
        "id": "znWNnNtC-h6F"
      }
    },
    {
      "cell_type": "markdown",
      "source": [
        "Xem thử kiểu dữ liệu của các cột dữ liệu."
      ],
      "metadata": {
        "id": "dc5RGHOL-jPd"
      }
    },
    {
      "cell_type": "code",
      "source": [
        "car_df.info()"
      ],
      "metadata": {
        "colab": {
          "base_uri": "https://localhost:8080/"
        },
        "id": "0TPcihei-pxr",
        "outputId": "f4cb77d0-725c-49d8-b084-1e9bb4ad2db0"
      },
      "execution_count": 5,
      "outputs": [
        {
          "output_type": "stream",
          "name": "stdout",
          "text": [
            "<class 'pandas.core.frame.DataFrame'>\n",
            "RangeIndex: 157 entries, 0 to 156\n",
            "Data columns (total 16 columns):\n",
            " #   Column               Non-Null Count  Dtype  \n",
            "---  ------               --------------  -----  \n",
            " 0   Manufacturer         157 non-null    object \n",
            " 1   Model                157 non-null    object \n",
            " 2   Sales_in_thousands   157 non-null    float64\n",
            " 3   __year_resale_value  121 non-null    float64\n",
            " 4   Vehicle_type         157 non-null    object \n",
            " 5   Price_in_thousands   155 non-null    float64\n",
            " 6   Engine_size          156 non-null    float64\n",
            " 7   Horsepower           156 non-null    float64\n",
            " 8   Wheelbase            156 non-null    float64\n",
            " 9   Width                156 non-null    float64\n",
            " 10  Length               156 non-null    float64\n",
            " 11  Curb_weight          155 non-null    float64\n",
            " 12  Fuel_capacity        156 non-null    float64\n",
            " 13  Fuel_efficiency      154 non-null    float64\n",
            " 14  Latest_Launch        157 non-null    object \n",
            " 15  Power_perf_factor    155 non-null    float64\n",
            "dtypes: float64(12), object(4)\n",
            "memory usage: 19.8+ KB\n"
          ]
        }
      ]
    },
    {
      "cell_type": "markdown",
      "source": [
        "Như vậy có thể thấy:\n",
        "- Các cột \"Manufacturer\", \"Model\", \"Vehicle_type\" đang có kiểu dữ liệu `object`. Ta cần đưa các cột này về dạng `category`.\n",
        "- Cột \"Latest_Launch\" đang có kiểu dữ liệu `object`. Ta cần đưa cột này về dạng `datetime`.\n",
        "\n",
        "Ta sẽ làm điều này ở bước tiền xử lý dữ liệu."
      ],
      "metadata": {
        "id": "WIkNZg45-y2t"
      }
    },
    {
      "cell_type": "markdown",
      "source": [
        "---"
      ],
      "metadata": {
        "id": "k0i6WUGgDhkf"
      }
    },
    {
      "cell_type": "markdown",
      "source": [
        "**Tiền xử lý dữ liệu**: Thay đổi kiểu dữ liệu"
      ],
      "metadata": {
        "id": "h4lCRlpxDlUn"
      }
    },
    {
      "cell_type": "markdown",
      "source": [
        "Thay đổi kiểu dữ liệu của các cột \"Manufacturer\", \"Model\", \"Vehicle_type\" sang kiểu dữ liệu dạng `category`."
      ],
      "metadata": {
        "id": "t2KA9RSPD4E3"
      }
    },
    {
      "cell_type": "code",
      "source": [
        "car_df[['Manufacturer', 'Model', 'Vehicle_type']] = car_df[['Manufacturer', 'Model', 'Vehicle_type']].astype('category')"
      ],
      "metadata": {
        "id": "_HKC2IOiD_-_"
      },
      "execution_count": 6,
      "outputs": []
    },
    {
      "cell_type": "markdown",
      "source": [
        "Thay đổi kiểu dữ liệu của cột \"Latest_Launch\" sang kiểu dữ liệu dạng `datetime`."
      ],
      "metadata": {
        "id": "RHfNomUiDop_"
      }
    },
    {
      "cell_type": "code",
      "source": [
        "car_df['Latest_Launch'] = car_df['Latest_Launch'].astype('datetime64')"
      ],
      "metadata": {
        "id": "rEZ_FtxEDzmp"
      },
      "execution_count": 7,
      "outputs": []
    },
    {
      "cell_type": "markdown",
      "source": [
        "Xem thử kiểu dữ liệu của các cột dữ liệu sau khi tiền xử lý."
      ],
      "metadata": {
        "id": "WXfLxP8vEHTH"
      }
    },
    {
      "cell_type": "code",
      "source": [
        "car_df.dtypes"
      ],
      "metadata": {
        "colab": {
          "base_uri": "https://localhost:8080/"
        },
        "id": "3o8uTVB1EKo-",
        "outputId": "a945ba5d-9f7b-4e4f-b6be-f679cc198cc6"
      },
      "execution_count": 8,
      "outputs": [
        {
          "output_type": "execute_result",
          "data": {
            "text/plain": [
              "Manufacturer                 category\n",
              "Model                        category\n",
              "Sales_in_thousands            float64\n",
              "__year_resale_value           float64\n",
              "Vehicle_type                 category\n",
              "Price_in_thousands            float64\n",
              "Engine_size                   float64\n",
              "Horsepower                    float64\n",
              "Wheelbase                     float64\n",
              "Width                         float64\n",
              "Length                        float64\n",
              "Curb_weight                   float64\n",
              "Fuel_capacity                 float64\n",
              "Fuel_efficiency               float64\n",
              "Latest_Launch          datetime64[ns]\n",
              "Power_perf_factor             float64\n",
              "dtype: object"
            ]
          },
          "metadata": {},
          "execution_count": 8
        }
      ]
    },
    {
      "cell_type": "markdown",
      "source": [
        "---"
      ],
      "metadata": {
        "id": "r2BHX2oLDiE3"
      }
    },
    {
      "cell_type": "markdown",
      "source": [
        "Có vẻ các cột đều có kiểu dữ liệu phù hợp. Nếu trong quá trình phân tích dữ liệu cần phải thay đổi kiểu dữ liệu của các cột thì ta sẽ quay lại tiền xử lý ở đây, tạm thời ta chấp nhận kiểu dữ liệu hiện tại của các cột."
      ],
      "metadata": {
        "id": "uAhldRa2EQ5n"
      }
    },
    {
      "cell_type": "markdown",
      "source": [
        "### Với mỗi cột có kiểu dữ liệu dạng số (numerical), các giá trị được phân bố như thế nào?"
      ],
      "metadata": {
        "id": "ptl_EYJp_EHe"
      }
    },
    {
      "cell_type": "markdown",
      "source": [
        "Với mỗi cột numerical, ta sẽ tính số lượng giá trị thiếu, tỉ lệ % giá trị thiếu (từ 0 đến 100), số lượng giá trị xuất hiện (count), giá trị nhỏ nhất (min), giá trị trung bình (mean), giá trị lớn nhất (max), các khoảng tứ phân vị (Q1, Q2, Q3) và độ lệch chuẩn (std). Sau đó ta sẽ lưu các giá trị này vào dataframe `numerical_col_df` thành 10 dòng là \"num_missing_val\", \"ratio_missing_val\", \"count\", \"min\", \"mean\", \"max\", \"Q1\", \"Q2\", \"Q3\", \"std\"."
      ],
      "metadata": {
        "id": "0eP-5ECA_GDX"
      }
    },
    {
      "cell_type": "code",
      "source": [
        "def num_missing_val(s):\n",
        "  return s.isna().sum()\n",
        "def ratio_missing_val(s):\n",
        "  return s.isna().mean() * 100\n",
        "def count(s):\n",
        "  return s.count();\n",
        "def Q1(s):\n",
        "  return s.quantile(0.25)\n",
        "def Q2(s):\n",
        "  return s.quantile(0.5)\n",
        "def Q3(s):\n",
        "  return s.quantile(0.75)\n",
        "\n",
        "numerical_cols = car_df.select_dtypes(include = 'number').columns\n",
        "numerical_col_df = car_df[numerical_cols].agg([num_missing_val, ratio_missing_val, count, min, np.mean, max, Q1, Q2, Q3, np.std]).T\n",
        "numerical_col_df[['num_missing_val', 'count']] = numerical_col_df[['num_missing_val', 'count']].astype(int)\n",
        "numerical_col_df"
      ],
      "metadata": {
        "colab": {
          "base_uri": "https://localhost:8080/",
          "height": 426
        },
        "id": "L53_y2Xj698e",
        "outputId": "a604dee0-3512-4e6e-f2d0-41f31250e46b"
      },
      "execution_count": 9,
      "outputs": [
        {
          "output_type": "execute_result",
          "data": {
            "text/plain": [
              "                     num_missing_val  ratio_missing_val  count         min  \\\n",
              "Sales_in_thousands                 0           0.000000    157    0.110000   \n",
              "__year_resale_value               36          22.929936    121    5.160000   \n",
              "Price_in_thousands                 2           1.273885    155    9.235000   \n",
              "Engine_size                        1           0.636943    156    1.000000   \n",
              "Horsepower                         1           0.636943    156   55.000000   \n",
              "Wheelbase                          1           0.636943    156   92.600000   \n",
              "Width                              1           0.636943    156   62.600000   \n",
              "Length                             1           0.636943    156  149.400000   \n",
              "Curb_weight                        2           1.273885    155    1.895000   \n",
              "Fuel_capacity                      1           0.636943    156   10.300000   \n",
              "Fuel_efficiency                    3           1.910828    154   15.000000   \n",
              "Power_perf_factor                  2           1.273885    155   23.276272   \n",
              "\n",
              "                           mean         max          Q1          Q2  \\\n",
              "Sales_in_thousands    52.998076  540.561000   14.114000   29.450000   \n",
              "__year_resale_value   18.072975   67.550000   11.260000   14.180000   \n",
              "Price_in_thousands    27.390755   85.500000   18.017500   22.799000   \n",
              "Engine_size            3.060897    8.000000    2.300000    3.000000   \n",
              "Horsepower           185.948718  450.000000  149.500000  177.500000   \n",
              "Wheelbase            107.487179  138.700000  103.000000  107.000000   \n",
              "Width                 71.150000   79.900000   68.400000   70.550000   \n",
              "Length               187.343590  224.500000  177.575000  187.900000   \n",
              "Curb_weight            3.378026    5.572000    2.971000    3.342000   \n",
              "Fuel_capacity         17.951923   32.000000   15.800000   17.200000   \n",
              "Fuel_efficiency       23.844156   45.000000   21.000000   24.000000   \n",
              "Power_perf_factor     77.043591  188.144323   60.407707   72.030917   \n",
              "\n",
              "                             Q3        std  \n",
              "Sales_in_thousands    67.956000  68.029422  \n",
              "__year_resale_value   19.875000  11.453384  \n",
              "Price_in_thousands    31.947500  14.351653  \n",
              "Engine_size            3.575000   1.044653  \n",
              "Horsepower           215.000000  56.700321  \n",
              "Wheelbase            112.200000   7.641303  \n",
              "Width                 73.425000   3.451872  \n",
              "Length               196.125000  13.431754  \n",
              "Curb_weight            3.799500   0.630502  \n",
              "Fuel_capacity         19.575000   3.887921  \n",
              "Fuel_efficiency       26.000000   4.282706  \n",
              "Power_perf_factor     89.414878  25.142664  "
            ],
            "text/html": [
              "\n",
              "  <div id=\"df-a954cd0a-3854-4096-9eea-d8ae8a467fbb\">\n",
              "    <div class=\"colab-df-container\">\n",
              "      <div>\n",
              "<style scoped>\n",
              "    .dataframe tbody tr th:only-of-type {\n",
              "        vertical-align: middle;\n",
              "    }\n",
              "\n",
              "    .dataframe tbody tr th {\n",
              "        vertical-align: top;\n",
              "    }\n",
              "\n",
              "    .dataframe thead th {\n",
              "        text-align: right;\n",
              "    }\n",
              "</style>\n",
              "<table border=\"1\" class=\"dataframe\">\n",
              "  <thead>\n",
              "    <tr style=\"text-align: right;\">\n",
              "      <th></th>\n",
              "      <th>num_missing_val</th>\n",
              "      <th>ratio_missing_val</th>\n",
              "      <th>count</th>\n",
              "      <th>min</th>\n",
              "      <th>mean</th>\n",
              "      <th>max</th>\n",
              "      <th>Q1</th>\n",
              "      <th>Q2</th>\n",
              "      <th>Q3</th>\n",
              "      <th>std</th>\n",
              "    </tr>\n",
              "  </thead>\n",
              "  <tbody>\n",
              "    <tr>\n",
              "      <th>Sales_in_thousands</th>\n",
              "      <td>0</td>\n",
              "      <td>0.000000</td>\n",
              "      <td>157</td>\n",
              "      <td>0.110000</td>\n",
              "      <td>52.998076</td>\n",
              "      <td>540.561000</td>\n",
              "      <td>14.114000</td>\n",
              "      <td>29.450000</td>\n",
              "      <td>67.956000</td>\n",
              "      <td>68.029422</td>\n",
              "    </tr>\n",
              "    <tr>\n",
              "      <th>__year_resale_value</th>\n",
              "      <td>36</td>\n",
              "      <td>22.929936</td>\n",
              "      <td>121</td>\n",
              "      <td>5.160000</td>\n",
              "      <td>18.072975</td>\n",
              "      <td>67.550000</td>\n",
              "      <td>11.260000</td>\n",
              "      <td>14.180000</td>\n",
              "      <td>19.875000</td>\n",
              "      <td>11.453384</td>\n",
              "    </tr>\n",
              "    <tr>\n",
              "      <th>Price_in_thousands</th>\n",
              "      <td>2</td>\n",
              "      <td>1.273885</td>\n",
              "      <td>155</td>\n",
              "      <td>9.235000</td>\n",
              "      <td>27.390755</td>\n",
              "      <td>85.500000</td>\n",
              "      <td>18.017500</td>\n",
              "      <td>22.799000</td>\n",
              "      <td>31.947500</td>\n",
              "      <td>14.351653</td>\n",
              "    </tr>\n",
              "    <tr>\n",
              "      <th>Engine_size</th>\n",
              "      <td>1</td>\n",
              "      <td>0.636943</td>\n",
              "      <td>156</td>\n",
              "      <td>1.000000</td>\n",
              "      <td>3.060897</td>\n",
              "      <td>8.000000</td>\n",
              "      <td>2.300000</td>\n",
              "      <td>3.000000</td>\n",
              "      <td>3.575000</td>\n",
              "      <td>1.044653</td>\n",
              "    </tr>\n",
              "    <tr>\n",
              "      <th>Horsepower</th>\n",
              "      <td>1</td>\n",
              "      <td>0.636943</td>\n",
              "      <td>156</td>\n",
              "      <td>55.000000</td>\n",
              "      <td>185.948718</td>\n",
              "      <td>450.000000</td>\n",
              "      <td>149.500000</td>\n",
              "      <td>177.500000</td>\n",
              "      <td>215.000000</td>\n",
              "      <td>56.700321</td>\n",
              "    </tr>\n",
              "    <tr>\n",
              "      <th>Wheelbase</th>\n",
              "      <td>1</td>\n",
              "      <td>0.636943</td>\n",
              "      <td>156</td>\n",
              "      <td>92.600000</td>\n",
              "      <td>107.487179</td>\n",
              "      <td>138.700000</td>\n",
              "      <td>103.000000</td>\n",
              "      <td>107.000000</td>\n",
              "      <td>112.200000</td>\n",
              "      <td>7.641303</td>\n",
              "    </tr>\n",
              "    <tr>\n",
              "      <th>Width</th>\n",
              "      <td>1</td>\n",
              "      <td>0.636943</td>\n",
              "      <td>156</td>\n",
              "      <td>62.600000</td>\n",
              "      <td>71.150000</td>\n",
              "      <td>79.900000</td>\n",
              "      <td>68.400000</td>\n",
              "      <td>70.550000</td>\n",
              "      <td>73.425000</td>\n",
              "      <td>3.451872</td>\n",
              "    </tr>\n",
              "    <tr>\n",
              "      <th>Length</th>\n",
              "      <td>1</td>\n",
              "      <td>0.636943</td>\n",
              "      <td>156</td>\n",
              "      <td>149.400000</td>\n",
              "      <td>187.343590</td>\n",
              "      <td>224.500000</td>\n",
              "      <td>177.575000</td>\n",
              "      <td>187.900000</td>\n",
              "      <td>196.125000</td>\n",
              "      <td>13.431754</td>\n",
              "    </tr>\n",
              "    <tr>\n",
              "      <th>Curb_weight</th>\n",
              "      <td>2</td>\n",
              "      <td>1.273885</td>\n",
              "      <td>155</td>\n",
              "      <td>1.895000</td>\n",
              "      <td>3.378026</td>\n",
              "      <td>5.572000</td>\n",
              "      <td>2.971000</td>\n",
              "      <td>3.342000</td>\n",
              "      <td>3.799500</td>\n",
              "      <td>0.630502</td>\n",
              "    </tr>\n",
              "    <tr>\n",
              "      <th>Fuel_capacity</th>\n",
              "      <td>1</td>\n",
              "      <td>0.636943</td>\n",
              "      <td>156</td>\n",
              "      <td>10.300000</td>\n",
              "      <td>17.951923</td>\n",
              "      <td>32.000000</td>\n",
              "      <td>15.800000</td>\n",
              "      <td>17.200000</td>\n",
              "      <td>19.575000</td>\n",
              "      <td>3.887921</td>\n",
              "    </tr>\n",
              "    <tr>\n",
              "      <th>Fuel_efficiency</th>\n",
              "      <td>3</td>\n",
              "      <td>1.910828</td>\n",
              "      <td>154</td>\n",
              "      <td>15.000000</td>\n",
              "      <td>23.844156</td>\n",
              "      <td>45.000000</td>\n",
              "      <td>21.000000</td>\n",
              "      <td>24.000000</td>\n",
              "      <td>26.000000</td>\n",
              "      <td>4.282706</td>\n",
              "    </tr>\n",
              "    <tr>\n",
              "      <th>Power_perf_factor</th>\n",
              "      <td>2</td>\n",
              "      <td>1.273885</td>\n",
              "      <td>155</td>\n",
              "      <td>23.276272</td>\n",
              "      <td>77.043591</td>\n",
              "      <td>188.144323</td>\n",
              "      <td>60.407707</td>\n",
              "      <td>72.030917</td>\n",
              "      <td>89.414878</td>\n",
              "      <td>25.142664</td>\n",
              "    </tr>\n",
              "  </tbody>\n",
              "</table>\n",
              "</div>\n",
              "      <button class=\"colab-df-convert\" onclick=\"convertToInteractive('df-a954cd0a-3854-4096-9eea-d8ae8a467fbb')\"\n",
              "              title=\"Convert this dataframe to an interactive table.\"\n",
              "              style=\"display:none;\">\n",
              "        \n",
              "  <svg xmlns=\"http://www.w3.org/2000/svg\" height=\"24px\"viewBox=\"0 0 24 24\"\n",
              "       width=\"24px\">\n",
              "    <path d=\"M0 0h24v24H0V0z\" fill=\"none\"/>\n",
              "    <path d=\"M18.56 5.44l.94 2.06.94-2.06 2.06-.94-2.06-.94-.94-2.06-.94 2.06-2.06.94zm-11 1L8.5 8.5l.94-2.06 2.06-.94-2.06-.94L8.5 2.5l-.94 2.06-2.06.94zm10 10l.94 2.06.94-2.06 2.06-.94-2.06-.94-.94-2.06-.94 2.06-2.06.94z\"/><path d=\"M17.41 7.96l-1.37-1.37c-.4-.4-.92-.59-1.43-.59-.52 0-1.04.2-1.43.59L10.3 9.45l-7.72 7.72c-.78.78-.78 2.05 0 2.83L4 21.41c.39.39.9.59 1.41.59.51 0 1.02-.2 1.41-.59l7.78-7.78 2.81-2.81c.8-.78.8-2.07 0-2.86zM5.41 20L4 18.59l7.72-7.72 1.47 1.35L5.41 20z\"/>\n",
              "  </svg>\n",
              "      </button>\n",
              "      \n",
              "  <style>\n",
              "    .colab-df-container {\n",
              "      display:flex;\n",
              "      flex-wrap:wrap;\n",
              "      gap: 12px;\n",
              "    }\n",
              "\n",
              "    .colab-df-convert {\n",
              "      background-color: #E8F0FE;\n",
              "      border: none;\n",
              "      border-radius: 50%;\n",
              "      cursor: pointer;\n",
              "      display: none;\n",
              "      fill: #1967D2;\n",
              "      height: 32px;\n",
              "      padding: 0 0 0 0;\n",
              "      width: 32px;\n",
              "    }\n",
              "\n",
              "    .colab-df-convert:hover {\n",
              "      background-color: #E2EBFA;\n",
              "      box-shadow: 0px 1px 2px rgba(60, 64, 67, 0.3), 0px 1px 3px 1px rgba(60, 64, 67, 0.15);\n",
              "      fill: #174EA6;\n",
              "    }\n",
              "\n",
              "    [theme=dark] .colab-df-convert {\n",
              "      background-color: #3B4455;\n",
              "      fill: #D2E3FC;\n",
              "    }\n",
              "\n",
              "    [theme=dark] .colab-df-convert:hover {\n",
              "      background-color: #434B5C;\n",
              "      box-shadow: 0px 1px 3px 1px rgba(0, 0, 0, 0.15);\n",
              "      filter: drop-shadow(0px 1px 2px rgba(0, 0, 0, 0.3));\n",
              "      fill: #FFFFFF;\n",
              "    }\n",
              "  </style>\n",
              "\n",
              "      <script>\n",
              "        const buttonEl =\n",
              "          document.querySelector('#df-a954cd0a-3854-4096-9eea-d8ae8a467fbb button.colab-df-convert');\n",
              "        buttonEl.style.display =\n",
              "          google.colab.kernel.accessAllowed ? 'block' : 'none';\n",
              "\n",
              "        async function convertToInteractive(key) {\n",
              "          const element = document.querySelector('#df-a954cd0a-3854-4096-9eea-d8ae8a467fbb');\n",
              "          const dataTable =\n",
              "            await google.colab.kernel.invokeFunction('convertToInteractive',\n",
              "                                                     [key], {});\n",
              "          if (!dataTable) return;\n",
              "\n",
              "          const docLinkHtml = 'Like what you see? Visit the ' +\n",
              "            '<a target=\"_blank\" href=https://colab.research.google.com/notebooks/data_table.ipynb>data table notebook</a>'\n",
              "            + ' to learn more about interactive tables.';\n",
              "          element.innerHTML = '';\n",
              "          dataTable['output_type'] = 'display_data';\n",
              "          await google.colab.output.renderOutput(dataTable, element);\n",
              "          const docLink = document.createElement('div');\n",
              "          docLink.innerHTML = docLinkHtml;\n",
              "          element.appendChild(docLink);\n",
              "        }\n",
              "      </script>\n",
              "    </div>\n",
              "  </div>\n",
              "  "
            ]
          },
          "metadata": {},
          "execution_count": 9
        }
      ]
    },
    {
      "cell_type": "markdown",
      "source": [
        "Ta thấy có xuất hiện các giá trị bị thiếu ở các cột \"year_resale_value\", \"Price_in_thousands\", \"Engine_size\", \"Horsepower\", \"Wheelbase\", \"Width\", \"Length\", \"Curb_weight\", \"Fuel_capacity\", \"Fuel_efficiency\", \"Power_perf_factor\", trong đó cột \"year_resale_value\" có tỉ lệ giá trị bị thiếu nhiều nhất **(~23%)** so với các cột còn lại.\n",
        "\n",
        "Có vẻ các thống kê mô tả của các cột dạng số không có gì bất thường."
      ],
      "metadata": {
        "id": "Lwg05Yh-AimJ"
      }
    },
    {
      "cell_type": "markdown",
      "source": [
        "### Với mỗi cột có kiểu dữ liệu dạng phân loại (categorical), các giá trị được phân bố như thế nào?"
      ],
      "metadata": {
        "id": "siTzPzTGBueH"
      }
    },
    {
      "cell_type": "markdown",
      "source": [
        "Với mỗi cột categorical, ta sẽ tính số lượng giá trị thiếu, tỉ lệ % giá trị thiếu (từ 0 đến 100), số lượng giá trị xuất hiện (count), giá trị xuất hiện nhiều nhất (mode), số lượng các giá trị khác nhau (không xét giá trị NaN) và danh sách các giá trị khác nhau (không xét giá trị NaN). Sau đó ta sẽ lưu các giá trị này vào dataframe `categical_col_df` thành 6 dòng là \"num_missing_val\", \"ratio_missing_val\", \"count\", \"most_frequency\", \"num_diff_vals\", \"diff_vals\"."
      ],
      "metadata": {
        "id": "PZIr8HgkBxFt"
      }
    },
    {
      "cell_type": "code",
      "source": [
        "def num_diff_vals(s):\n",
        "  return s.nunique()\n",
        "def diff_vals(s):\n",
        "  return s.dropna().astype('object').unique()\n",
        "def most_frequency(s):\n",
        "  return s.mode()[0]\n",
        "\n",
        "categorical_cols = car_df.select_dtypes(include = 'category').columns\n",
        "categorical_col_df = car_df[categorical_cols].agg([num_missing_val, ratio_missing_val, count, most_frequency, num_diff_vals, diff_vals]).T\n",
        "categorical_col_df[['num_missing_val', 'count']] = categorical_col_df[['num_missing_val', 'count']].astype(int)\n",
        "categorical_col_df"
      ],
      "metadata": {
        "colab": {
          "base_uri": "https://localhost:8080/",
          "height": 292
        },
        "id": "yCaQZ6iL_UGb",
        "outputId": "29c51b73-376c-49db-afb0-f61b8f5d114d"
      },
      "execution_count": 10,
      "outputs": [
        {
          "output_type": "execute_result",
          "data": {
            "text/plain": [
              "              num_missing_val ratio_missing_val  count most_frequency  \\\n",
              "Manufacturer                0               0.0    157          Dodge   \n",
              "Model                       0               0.0    157           Neon   \n",
              "Vehicle_type                0               0.0    157      Passenger   \n",
              "\n",
              "             num_diff_vals  \\\n",
              "Manufacturer            30   \n",
              "Model                  156   \n",
              "Vehicle_type             2   \n",
              "\n",
              "                                                                                                                                                                                                                                                                                                                                                                                                                                                                                                                                                                                                                                                                                                                                                                                                                                                                                                                             diff_vals  \n",
              "Manufacturer                                                                                                                                                                                                                                                                                                                                                                                                                                                                                                                                                                                                                                                           [Acura, Audi, BMW, Buick, Cadillac, Chevrolet, Chrysler, Dodge, Ford, Honda, Hyundai, Infiniti, Jaguar, Jeep, Lexus, Lincoln, Mitsubishi, Mercury, Mercedes-B, Nissan, Oldsmobile, Plymouth, Pontiac, Porsche, Saab, Saturn, Subaru, Toyota, Volkswagen, Volvo]  \n",
              "Model         [Integra, TL, CL, RL, A4, A6, A8, 323i, 328i, 528i, Century, Regal, Park Avenue, LeSabre, DeVille, Seville, Eldorado, Catera, Escalade, Cavalier, Malibu, Lumina, Monte Carlo, Camaro, Corvette, Prizm, Metro, Impala, Sebring Coupe, Sebring Conv., Concorde, Cirrus, LHS, Town & Country, 300M, Neon, Avenger, Stratus, Intrepid, Viper, Ram Pickup, Ram Wagon, Ram Van, Dakota, Durango, Caravan, Escort, Mustang, Contour, Taurus, Focus, Crown Victoria, Explorer, Windstar, Expedition, Ranger, F-Series, Civic, Accord, CR-V, Passport, Odyssey, Accent, Elantra, Sonata, I30, S-Type, Wrangler, Cherokee, Grand Cherokee, ES300, GS300, GS400, LS400, LX470, RX300, Continental, Town car, Navigator, Mirage, Eclipse, Galant, Diamante, 3000GT, Montero, Montero Sport, Mystique, Cougar, Sable, Grand Marquis, Mountaineer, Villager, C-Class, E-Class, S-Class, SL-Class, SLK, SLK230, CLK Coupe, CL500, ...]  \n",
              "Vehicle_type                                                                                                                                                                                                                                                                                                                                                                                                                                                                                                                                                                                                                                                                                                                                                                                                                                                                                                          [Passenger, Car]  "
            ],
            "text/html": [
              "\n",
              "  <div id=\"df-1b426ef6-fbd2-4560-a137-c5f307877ba5\">\n",
              "    <div class=\"colab-df-container\">\n",
              "      <div>\n",
              "<style scoped>\n",
              "    .dataframe tbody tr th:only-of-type {\n",
              "        vertical-align: middle;\n",
              "    }\n",
              "\n",
              "    .dataframe tbody tr th {\n",
              "        vertical-align: top;\n",
              "    }\n",
              "\n",
              "    .dataframe thead th {\n",
              "        text-align: right;\n",
              "    }\n",
              "</style>\n",
              "<table border=\"1\" class=\"dataframe\">\n",
              "  <thead>\n",
              "    <tr style=\"text-align: right;\">\n",
              "      <th></th>\n",
              "      <th>num_missing_val</th>\n",
              "      <th>ratio_missing_val</th>\n",
              "      <th>count</th>\n",
              "      <th>most_frequency</th>\n",
              "      <th>num_diff_vals</th>\n",
              "      <th>diff_vals</th>\n",
              "    </tr>\n",
              "  </thead>\n",
              "  <tbody>\n",
              "    <tr>\n",
              "      <th>Manufacturer</th>\n",
              "      <td>0</td>\n",
              "      <td>0.0</td>\n",
              "      <td>157</td>\n",
              "      <td>Dodge</td>\n",
              "      <td>30</td>\n",
              "      <td>[Acura, Audi, BMW, Buick, Cadillac, Chevrolet, Chrysler, Dodge, Ford, Honda, Hyundai, Infiniti, Jaguar, Jeep, Lexus, Lincoln, Mitsubishi, Mercury, Mercedes-B, Nissan, Oldsmobile, Plymouth, Pontiac, Porsche, Saab, Saturn, Subaru, Toyota, Volkswagen, Volvo]</td>\n",
              "    </tr>\n",
              "    <tr>\n",
              "      <th>Model</th>\n",
              "      <td>0</td>\n",
              "      <td>0.0</td>\n",
              "      <td>157</td>\n",
              "      <td>Neon</td>\n",
              "      <td>156</td>\n",
              "      <td>[Integra, TL, CL, RL, A4, A6, A8, 323i, 328i, 528i, Century, Regal, Park Avenue, LeSabre, DeVille, Seville, Eldorado, Catera, Escalade, Cavalier, Malibu, Lumina, Monte Carlo, Camaro, Corvette, Prizm, Metro, Impala, Sebring Coupe, Sebring Conv., Concorde, Cirrus, LHS, Town &amp; Country, 300M, Neon, Avenger, Stratus, Intrepid, Viper, Ram Pickup, Ram Wagon, Ram Van, Dakota, Durango, Caravan, Escort, Mustang, Contour, Taurus, Focus, Crown Victoria, Explorer, Windstar, Expedition, Ranger, F-Series, Civic, Accord, CR-V, Passport, Odyssey, Accent, Elantra, Sonata, I30, S-Type, Wrangler, Cherokee, Grand Cherokee, ES300, GS300, GS400, LS400, LX470, RX300, Continental, Town car, Navigator, Mirage, Eclipse, Galant, Diamante, 3000GT, Montero, Montero Sport, Mystique, Cougar, Sable, Grand Marquis, Mountaineer, Villager, C-Class, E-Class, S-Class, SL-Class, SLK, SLK230, CLK Coupe, CL500, ...]</td>\n",
              "    </tr>\n",
              "    <tr>\n",
              "      <th>Vehicle_type</th>\n",
              "      <td>0</td>\n",
              "      <td>0.0</td>\n",
              "      <td>157</td>\n",
              "      <td>Passenger</td>\n",
              "      <td>2</td>\n",
              "      <td>[Passenger, Car]</td>\n",
              "    </tr>\n",
              "  </tbody>\n",
              "</table>\n",
              "</div>\n",
              "      <button class=\"colab-df-convert\" onclick=\"convertToInteractive('df-1b426ef6-fbd2-4560-a137-c5f307877ba5')\"\n",
              "              title=\"Convert this dataframe to an interactive table.\"\n",
              "              style=\"display:none;\">\n",
              "        \n",
              "  <svg xmlns=\"http://www.w3.org/2000/svg\" height=\"24px\"viewBox=\"0 0 24 24\"\n",
              "       width=\"24px\">\n",
              "    <path d=\"M0 0h24v24H0V0z\" fill=\"none\"/>\n",
              "    <path d=\"M18.56 5.44l.94 2.06.94-2.06 2.06-.94-2.06-.94-.94-2.06-.94 2.06-2.06.94zm-11 1L8.5 8.5l.94-2.06 2.06-.94-2.06-.94L8.5 2.5l-.94 2.06-2.06.94zm10 10l.94 2.06.94-2.06 2.06-.94-2.06-.94-.94-2.06-.94 2.06-2.06.94z\"/><path d=\"M17.41 7.96l-1.37-1.37c-.4-.4-.92-.59-1.43-.59-.52 0-1.04.2-1.43.59L10.3 9.45l-7.72 7.72c-.78.78-.78 2.05 0 2.83L4 21.41c.39.39.9.59 1.41.59.51 0 1.02-.2 1.41-.59l7.78-7.78 2.81-2.81c.8-.78.8-2.07 0-2.86zM5.41 20L4 18.59l7.72-7.72 1.47 1.35L5.41 20z\"/>\n",
              "  </svg>\n",
              "      </button>\n",
              "      \n",
              "  <style>\n",
              "    .colab-df-container {\n",
              "      display:flex;\n",
              "      flex-wrap:wrap;\n",
              "      gap: 12px;\n",
              "    }\n",
              "\n",
              "    .colab-df-convert {\n",
              "      background-color: #E8F0FE;\n",
              "      border: none;\n",
              "      border-radius: 50%;\n",
              "      cursor: pointer;\n",
              "      display: none;\n",
              "      fill: #1967D2;\n",
              "      height: 32px;\n",
              "      padding: 0 0 0 0;\n",
              "      width: 32px;\n",
              "    }\n",
              "\n",
              "    .colab-df-convert:hover {\n",
              "      background-color: #E2EBFA;\n",
              "      box-shadow: 0px 1px 2px rgba(60, 64, 67, 0.3), 0px 1px 3px 1px rgba(60, 64, 67, 0.15);\n",
              "      fill: #174EA6;\n",
              "    }\n",
              "\n",
              "    [theme=dark] .colab-df-convert {\n",
              "      background-color: #3B4455;\n",
              "      fill: #D2E3FC;\n",
              "    }\n",
              "\n",
              "    [theme=dark] .colab-df-convert:hover {\n",
              "      background-color: #434B5C;\n",
              "      box-shadow: 0px 1px 3px 1px rgba(0, 0, 0, 0.15);\n",
              "      filter: drop-shadow(0px 1px 2px rgba(0, 0, 0, 0.3));\n",
              "      fill: #FFFFFF;\n",
              "    }\n",
              "  </style>\n",
              "\n",
              "      <script>\n",
              "        const buttonEl =\n",
              "          document.querySelector('#df-1b426ef6-fbd2-4560-a137-c5f307877ba5 button.colab-df-convert');\n",
              "        buttonEl.style.display =\n",
              "          google.colab.kernel.accessAllowed ? 'block' : 'none';\n",
              "\n",
              "        async function convertToInteractive(key) {\n",
              "          const element = document.querySelector('#df-1b426ef6-fbd2-4560-a137-c5f307877ba5');\n",
              "          const dataTable =\n",
              "            await google.colab.kernel.invokeFunction('convertToInteractive',\n",
              "                                                     [key], {});\n",
              "          if (!dataTable) return;\n",
              "\n",
              "          const docLinkHtml = 'Like what you see? Visit the ' +\n",
              "            '<a target=\"_blank\" href=https://colab.research.google.com/notebooks/data_table.ipynb>data table notebook</a>'\n",
              "            + ' to learn more about interactive tables.';\n",
              "          element.innerHTML = '';\n",
              "          dataTable['output_type'] = 'display_data';\n",
              "          await google.colab.output.renderOutput(dataTable, element);\n",
              "          const docLink = document.createElement('div');\n",
              "          docLink.innerHTML = docLinkHtml;\n",
              "          element.appendChild(docLink);\n",
              "        }\n",
              "      </script>\n",
              "    </div>\n",
              "  </div>\n",
              "  "
            ]
          },
          "metadata": {},
          "execution_count": 10
        }
      ]
    },
    {
      "cell_type": "markdown",
      "source": [
        "Hầu hết các cột dạng phân loại không có gì bất thường."
      ],
      "metadata": {
        "id": "e30wRAGaGKzw"
      }
    },
    {
      "cell_type": "markdown",
      "source": [
        "# C. TRỰC QUAN HÓA DỮ LIỆU"
      ],
      "metadata": {
        "id": "7yN_GSELGRZY"
      }
    },
    {
      "cell_type": "markdown",
      "source": [
        "### Sự phân bố của dữ liệu đối với các cột dạng số"
      ],
      "metadata": {
        "id": "wSda8QzZSSsr"
      }
    },
    {
      "cell_type": "markdown",
      "source": [
        "Ta sẽ dùng các biểu đồ boxplot đối với các cột dạng số để thể hiện sự phân bố của dữ liệu. Trong đó:\n",
        "- Các cận bên trái và bên phải tương ứng với giá trị nhỏ nhất (min) và giá trị lớn nhất (max) của dữ liệu.\n",
        "- Các cạnh bên trái và bên phải của hình hộp tương ứng với khoảng tứ phân vị thứ nhất (Q1) và khoảng tứ phân vị thứ ba (Q3).\n",
        "- Đường ở giữa hình hộp tương ứng với giá trị trung bình (mean).\n",
        "- Các chấm còn lại nằm ở bên ngoài cận bên trái và cận bên phải là các outlier xuất hiện trong tập dữ liệu."
      ],
      "metadata": {
        "id": "X0mfhbRzVeJP"
      }
    },
    {
      "cell_type": "code",
      "source": [
        "fig, axs = plt.subplots(3, 4, figsize = (24, 12))\n",
        "row, col = 0, 0\n",
        "for numerical_col in numerical_cols:\n",
        "    axs[row, col].set_title(numerical_col)\n",
        "    axs[row, col].boxplot(car_df[numerical_col].dropna(), vert = False)\n",
        "    col += 1\n",
        "    if col >= 4:\n",
        "        col = 0\n",
        "        row += 1"
      ],
      "metadata": {
        "colab": {
          "base_uri": "https://localhost:8080/",
          "height": 719
        },
        "id": "g00sKE0ZSS5r",
        "outputId": "f435cdfc-4485-40d1-a37c-484ef054c2a7"
      },
      "execution_count": 11,
      "outputs": [
        {
          "output_type": "display_data",
          "data": {
            "text/plain": [
              "<Figure size 1728x864 with 12 Axes>"
            ],
            "image/png": "[encoded data removed]"
          },
          "metadata": {}
        }
      ]
    },
    {
      "cell_type": "markdown",
      "source": [
        "**Nhận xét:** Quan sát các biểu đồ boxplot, ta nhận thấy:\n",
        "- Hầu hết các đặc trưng của dữ liệu đều có xuất hiện outlier, một số cột có tồn tại outlier nhưng với số lượng ít như \"Engine_size\", \"Horsepower\", \"Length\", \"Curb_weight\", \"Fuel_efficiency\". Cột \"Width\" không thấy xuất hiện outlier.\n",
        "- Các cột \"Sales_in_thousands\", \"year_release_value\", \"Price_in_thousands\" là các cột có xuất hiện khá nhiều outlier, trong đó cột \"Sales_in_thousands\" và \"Price_in_thousands\" là các cột có chứa thông tin có giá trị, do đó ta cần lưu ý các cột này trong bước tiền xử lý dữ liệu.\n",
        "\n",
        "Để biết bản chất thật sự các outlier có ảnh hưởng nhiều tới tập dữ liệu hay không, ta cần phải xử lý outlier. Do đó, ta sẽ làm điều này ở bước tiền xử lý dữ liệu."
      ],
      "metadata": {
        "id": "8X6ia8kmU9Nd"
      }
    },
    {
      "cell_type": "markdown",
      "source": [
        "### Biểu diễn sự phân phối của các Hãng sản xuất ô tô"
      ],
      "metadata": {
        "id": "JqzYlwxEHW7o"
      }
    },
    {
      "cell_type": "markdown",
      "source": [
        "Ta sẽ dùng biểu đồ cột để thể hiện số lượng mẫu xe được sản xuất theo từng hãng sản xuất. Trong đó:\n",
        "- Trục hoành: thể hiện tên các hãng sản xuất của cột \"Manufacturer\".\n",
        "- Trục tung: thể hiện số lượng mẫu xe."
      ],
      "metadata": {
        "id": "o8vPUgoGJICg"
      }
    },
    {
      "cell_type": "code",
      "source": [
        "fig, ax = plt.subplots(figsize = (24, 8))\n",
        "sns.countplot(data = car_df, x = 'Manufacturer', ax = ax)\n",
        "ax.set_xticklabels(ax.get_xticklabels(), rotation = 90, fontsize = 8)\n",
        "plt.title('Biểu đồ thể hiện số lượng mẫu xe được sản xuất theo từng hãng sản xuất')\n",
        "plt.xlabel('Hãng sản xuất')\n",
        "plt.ylabel('Số lượng mẫu xe')\n",
        "plt.show()"
      ],
      "metadata": {
        "colab": {
          "base_uri": "https://localhost:8080/",
          "height": 557
        },
        "id": "M2YBBkliCNwa",
        "outputId": "b067b27d-4f90-4499-c9b7-ff234209d092"
      },
      "execution_count": 12,
      "outputs": [
        {
          "output_type": "display_data",
          "data": {
            "text/plain": [
              "<Figure size 1728x576 with 1 Axes>"
            ],
            "image/png": "[encoded data removed]"
          },
          "metadata": {}
        }
      ]
    },
    {
      "cell_type": "markdown",
      "source": [
        "Sau đó, ta sẽ dùng biểu đồ cột để thể hiện giá thành trung bình bán ô tô của mỗi hãng sản xuất. Trong đó:\n",
        "- Trục hoành: thể hiện tên các hãng sản xuất của cột \"Manufacturer\".\n",
        "- Trục tung: thể hiện giá thành trung bình bán ô tô."
      ],
      "metadata": {
        "id": "UDj0zs7ONVEy"
      }
    },
    {
      "cell_type": "code",
      "source": [
        "fig, ax = plt.subplots(figsize = (24, 8))\n",
        "mean_price_manufacturer_df = car_df[['Manufacturer', 'Price_in_thousands']].groupby(['Manufacturer'], as_index = False).mean().sort_values(by = 'Price_in_thousands', ascending = False)\n",
        "sns.barplot(data = mean_price_manufacturer_df, x = 'Manufacturer', y = 'Price_in_thousands', ax = ax, order = mean_price_manufacturer_df['Manufacturer'])\n",
        "ax.set_xticklabels(ax.get_xticklabels(), rotation = 90, fontsize = 8)\n",
        "plt.title('Biểu đồ thể hiện giá thành trung bình bán ô tô của mỗi hãng sản xuất')\n",
        "plt.xlabel('Hãng sản xuất')\n",
        "plt.ylabel('Giá thành')\n",
        "plt.show()"
      ],
      "metadata": {
        "colab": {
          "base_uri": "https://localhost:8080/",
          "height": 557
        },
        "id": "EwsRg6TKINZh",
        "outputId": "ecf0bb3b-1ebf-4432-d86e-405d7fc9957b"
      },
      "execution_count": 13,
      "outputs": [
        {
          "output_type": "display_data",
          "data": {
            "text/plain": [
              "<Figure size 1728x576 with 1 Axes>"
            ],
            "image/png": "[encoded data removed]"
          },
          "metadata": {}
        }
      ]
    },
    {
      "cell_type": "markdown",
      "source": [
        "**Nhận xét:** Quan sát 2 biểu đồ trên, ta nhận thấy:\n",
        "- Số lượng mẫu xe và giá thành trung bình bán ô tô của các hãng sản xuất có sự phân phối không đồng đều.\n",
        "- Hãng Dodge và Ford đều có số lượng mẫu xe nhiều nhất, trong khi đó hãng Rorsche có số lượng mẫu xe ít nhất.\n",
        "- Giá thành trung bình bán ô tô của hãng Ford là cao nhất, giá thành trung bình bán ô tô của hãng Rorsche là thấp nhất trong các hãng sản xuất ô tổ.\n",
        "- Có sự phân chia giữa hãng có giá thành trung bình thấp và cao ở mức 30. Ta có thay thế thành các nhãn của cột \"Manufacturer\" ở bước tiền xử lý dữ liệu."
      ],
      "metadata": {
        "id": "GdjSd6zzNhB7"
      }
    },
    {
      "cell_type": "markdown",
      "source": [
        "### Biểu diễn sự phân phối giữa Passenger và Car"
      ],
      "metadata": {
        "id": "0HNXsKvSNoVB"
      }
    },
    {
      "cell_type": "markdown",
      "source": [
        "Ta sẽ dùng biểu đồ tròn để thể hiện sự phân phối giữa Passenger và Car. Trong đó:\n",
        "- Màu xanh: tỉ lệ % của Passenger.\n",
        "- Màu cam: tỉ lệ % của Car."
      ],
      "metadata": {
        "id": "l30uCxwLOYVp"
      }
    },
    {
      "cell_type": "code",
      "source": [
        "plt.figure(figsize = (12, 8))\n",
        "vehicle_type_df = car_df['Vehicle_type'].value_counts()\n",
        "plt.pie(vehicle_type_df, labels = vehicle_type_df.index, colors = sns.color_palette('pastel'), autopct = '%1.1f%%')\n",
        "plt.title('Biểu đồ thể hiện sự phân phối giữa Passenger và Car')\n",
        "plt.legend()\n",
        "plt.show()"
      ],
      "metadata": {
        "colab": {
          "base_uri": "https://localhost:8080/",
          "height": 483
        },
        "id": "FTetccqYLHoA",
        "outputId": "be8b72d6-c08f-4e1f-b956-cc92d96cf213"
      },
      "execution_count": 14,
      "outputs": [
        {
          "output_type": "display_data",
          "data": {
            "text/plain": [
              "<Figure size 864x576 with 1 Axes>"
            ],
            "image/png": "[encoded data removed]"
          },
          "metadata": {}
        }
      ]
    },
    {
      "cell_type": "markdown",
      "source": [
        "Sau đó, ta sẽ dùng biểu đồ tròn để thể hiện giá thành trung bình giữa Passenger và Car. Trong đó:\n",
        "- Màu xanh: tỉ lệ % giá thành trung bình của Passenger.\n",
        "- Màu cam: tỉ lệ % giá thành trung bình của Car."
      ],
      "metadata": {
        "id": "5BvoRZHHPfqq"
      }
    },
    {
      "cell_type": "code",
      "source": [
        "plt.figure(figsize = (12, 8))\n",
        "mean_price_vehicle_type_df = car_df[['Vehicle_type', 'Price_in_thousands']].groupby(['Vehicle_type'], as_index = False).mean().sort_values(by = 'Price_in_thousands', ascending = False)\n",
        "plt.pie(mean_price_vehicle_type_df['Price_in_thousands'], labels = mean_price_vehicle_type_df['Vehicle_type'], colors = sns.color_palette('pastel'), autopct = '%1.1f%%')\n",
        "plt.title('Biểu đồ thể hiện giá thành trung bình giữa Passenger và Car')\n",
        "plt.legend()\n",
        "plt.show()"
      ],
      "metadata": {
        "colab": {
          "base_uri": "https://localhost:8080/",
          "height": 483
        },
        "id": "r-QA8yzIOMhO",
        "outputId": "ef4d057f-f440-48b1-9999-5e3ca92ee9bb"
      },
      "execution_count": 15,
      "outputs": [
        {
          "output_type": "display_data",
          "data": {
            "text/plain": [
              "<Figure size 864x576 with 1 Axes>"
            ],
            "image/png": "[encoded data removed]"
          },
          "metadata": {}
        }
      ]
    },
    {
      "cell_type": "markdown",
      "source": [
        "**Nhận xét:** Quan sát 2 biểu đồ trên, ta nhận thấy rằng số lượng Passenger nhiều gấp 3 lần số lượng Car, trong khi đó giá thành giữa Passenger và Car có sự tương đồng với nhau."
      ],
      "metadata": {
        "id": "5r4rYmkgPmeZ"
      }
    },
    {
      "cell_type": "markdown",
      "source": [
        "# D. TIỀN XỬ LÝ DỮ LIỆU"
      ],
      "metadata": {
        "id": "QOsGYXUgPuEc"
      }
    },
    {
      "cell_type": "markdown",
      "source": [
        "Đầu tiên, ta sẽ lưu dữ liệu từ dataframe `car_df` vào dataframe `new_car_df` để tránh xảy ra lỗi trong quá trình tiền xử lý dữ liệu."
      ],
      "metadata": {
        "id": "9lu6wRMWW4r-"
      }
    },
    {
      "cell_type": "code",
      "source": [
        "new_car_df = car_df.copy()"
      ],
      "metadata": {
        "id": "RCWBZE5CWy_l"
      },
      "execution_count": 16,
      "outputs": []
    },
    {
      "cell_type": "markdown",
      "source": [
        "### Nhận dạng và xử lý outlier của các cột dạng số"
      ],
      "metadata": {
        "id": "P7uqk1jPVN_r"
      }
    },
    {
      "cell_type": "markdown",
      "source": [
        "Các outlier thường có xu hướng làm sai lệch dữ liệu dẫn tới các dự đoán mô hình không chính xác. Ta có thể thấy các outlier xuất hiện dựa vào các biểu đồ boxplot đã trực quan hóa ở trên. Do đó, ta sẽ sử dụng phương pháp Tukey để loại bỏ các outlier này. Có thể tham khảo [đường dẫn](https://www.itl.nist.gov/div898/handbook/prc/section4/prc471.htm) sau về phương pháp này.\n",
        "\n",
        "Ở đây, chúng ta sẽ định nghĩa hàm `detect_outliers()` dùng để duyệt qua từng đặc trưng của dữ liệu và phát hiện ra các giá trị outlier có xuất hiện trong đặc trưng đó không. Hàm này bao gồm 3 tham số đầu vào:\n",
        "- `df`: dataframe dữ liệu\n",
        "- `n`: số cột tối thiểu có xuất hiện outlier\n",
        "- `features_list`: danh sách các đặc trưng\n",
        "\n",
        "Trong mỗi vòng lặp, một điểm dữ liệu được coi là outlier nếu nó nhỏ hơn tứ phân vị thứ nhất (Q1) trừ đi bước ngoại lệ hoặc vượt quá tứ phân vị thứ 3 (Q3) cộng với bước ngoại lệ. Bước ngoại lệ bằng 1,5 lần độ trải giữa (IQR). Khi các giá trị outlier thỏa điều kiện xác định cho một đặc trưng, chỉ mục của nó sẽ được lưu vào `outlier_indices` và tiếp tục tới các đặc trưng tiếp theo, quá trình này lặp lại cho đến khi duyệt qua hết các đặc trưng trong danh sách `features_list`. Cuối cùng, ta sẽ lọc qua chỉ mục của các outlier nếu nó thỏa điều kiện số cột tối thiểu có xuất hiện outlier `n` và trả về danh sách chỉ mục của các outlier đó."
      ],
      "metadata": {
        "id": "rGdJyl2RVUBr"
      }
    },
    {
      "cell_type": "code",
      "source": [
        "# Reference: https://www.kaggle.com/code/gadigevishalsai/car-sales-price-prediction-eda-regression#4.1-Detect-and-remove-outliers-in-numerical-variables\n",
        "def detect_outliers(df, n, features_list):\n",
        "    outlier_indices = [] \n",
        "    for feature in features_list: \n",
        "        Q1 = np.percentile(df[feature], 25)\n",
        "        Q3 = np.percentile(df[feature], 75)\n",
        "        IQR = Q3 - Q1\n",
        "        outlier_step = 1.5 * IQR \n",
        "        outlier_list_col = df[(df[feature] < Q1 - outlier_step) | (df[feature] > Q3 + outlier_step)].index\n",
        "        outlier_indices.extend(outlier_list_col) \n",
        "    outlier_indices = Counter(outlier_indices)\n",
        "    multiple_outliers = list(key for key, value in outlier_indices.items() if value > n) \n",
        "    return multiple_outliers"
      ],
      "metadata": {
        "id": "vVELZYjjPG3y"
      },
      "execution_count": 17,
      "outputs": []
    },
    {
      "cell_type": "code",
      "source": [
        "outlier_indices = detect_outliers(new_car_df, 2, numerical_cols)\n",
        "outlier_indices"
      ],
      "metadata": {
        "colab": {
          "base_uri": "https://localhost:8080/"
        },
        "id": "oF_4-FzNVrIi",
        "outputId": "b756527a-c5c7-41ae-824f-f12b104bb543"
      },
      "execution_count": 18,
      "outputs": [
        {
          "output_type": "execute_result",
          "data": {
            "text/plain": [
              "[]"
            ]
          },
          "metadata": {},
          "execution_count": 18
        }
      ]
    },
    {
      "cell_type": "markdown",
      "source": [
        "Chúng ta có thể thấy rằng thực chất không có outlier nào xuất hiện trong tập dữ liệu."
      ],
      "metadata": {
        "id": "agvRhikFW0Kb"
      }
    },
    {
      "cell_type": "markdown",
      "source": [
        "### Xử lý các giá trị bị thiếu"
      ],
      "metadata": {
        "id": "Zi2yqAsDWzbu"
      }
    },
    {
      "cell_type": "markdown",
      "source": [
        "Dựa vào bảng thống kê mô tả của các đặc trưng ở trên, ta thấy có xuất hiện các giá trị bị thiếu ở các cột \"year_resale_value\", \"Price_in_thousands\", \"Engine_size\", \"Horsepower\", \"Wheelbase\", \"Width\", \"Length\", \"Curb_weight\", \"Fuel_capacity\", \"Fuel_efficiency\", \"Power_perf_factor\".\n",
        "\n",
        "Tuy nhiên cột \"Price_in_thousands\" có tỉ lệ % giá trị bị thiếu khá ít và do nó là cột có chứa dữ liệu quan trọng nên ta sẽ chọn cách bỏ đi các mẫu có chứa giá trị bị thiếu ở cột này để tránh làm sai lệch dữ liệu."
      ],
      "metadata": {
        "id": "XfbmDahNW4I9"
      }
    },
    {
      "cell_type": "code",
      "source": [
        "new_car_df = new_car_df[new_car_df['Price_in_thousands'].notna()]"
      ],
      "metadata": {
        "id": "oWUKjo2TSedo"
      },
      "execution_count": 19,
      "outputs": []
    },
    {
      "cell_type": "markdown",
      "source": [
        "Xem thử các giá trị bị thiếu sau khi bỏ đi vài dòng."
      ],
      "metadata": {
        "id": "Ky5NW2mDhbeB"
      }
    },
    {
      "cell_type": "code",
      "source": [
        "new_car_df.isnull().sum().sort_values(ascending = False)"
      ],
      "metadata": {
        "colab": {
          "base_uri": "https://localhost:8080/"
        },
        "id": "Gqb3n9yYSoho",
        "outputId": "5f713479-f972-4ed3-eaff-211b4c506b80"
      },
      "execution_count": 20,
      "outputs": [
        {
          "output_type": "execute_result",
          "data": {
            "text/plain": [
              "__year_resale_value    36\n",
              "Fuel_efficiency         2\n",
              "Curb_weight             1\n",
              "Manufacturer            0\n",
              "Model                   0\n",
              "Sales_in_thousands      0\n",
              "Vehicle_type            0\n",
              "Price_in_thousands      0\n",
              "Engine_size             0\n",
              "Horsepower              0\n",
              "Wheelbase               0\n",
              "Width                   0\n",
              "Length                  0\n",
              "Fuel_capacity           0\n",
              "Latest_Launch           0\n",
              "Power_perf_factor       0\n",
              "dtype: int64"
            ]
          },
          "metadata": {},
          "execution_count": 20
        }
      ]
    },
    {
      "cell_type": "markdown",
      "source": [
        "Ta thấy có xuất hiện các giá trị bị thiếu ở 3 cột \"year_resale_value\", \"Fuel_efficiency\", \"Curb_weight\".\n",
        "\n",
        "Ta sẽ xử lý bằng cách điền giá trị trung vị (median) vào các ô bị thiếu này vì giá trị trung vị sẽ giữ cho sự phân phối của dữ liệu không bị thay đổi nhiều."
      ],
      "metadata": {
        "id": "qUD8j34pWbgg"
      }
    },
    {
      "cell_type": "code",
      "source": [
        "temp_df = new_car_df.copy()\n",
        "temp_df['__year_resale_value'] = temp_df['__year_resale_value'].fillna(new_car_df['__year_resale_value'].dropna().median())\n",
        "temp_df['Fuel_efficiency'] = temp_df['Fuel_efficiency'].fillna(new_car_df['Fuel_efficiency'].dropna().median())\n",
        "temp_df['Curb_weight'] = temp_df['Curb_weight'].fillna(new_car_df['Curb_weight'].dropna().median())\n",
        "new_car_df = temp_df"
      ],
      "metadata": {
        "id": "aLTkhvT2WmAf"
      },
      "execution_count": 21,
      "outputs": []
    },
    {
      "cell_type": "markdown",
      "source": [
        "Kiểm tra lại các giá trị bị thiếu có còn xuất hiện sau khi tiền xử lý."
      ],
      "metadata": {
        "id": "Am6RkOUPkJcb"
      }
    },
    {
      "cell_type": "code",
      "source": [
        "new_car_df.isnull().sum().sort_values(ascending = False)"
      ],
      "metadata": {
        "colab": {
          "base_uri": "https://localhost:8080/"
        },
        "id": "ObCP6dojkHdT",
        "outputId": "fc666ca7-14b0-4bdc-abe5-47e8c5d64fab"
      },
      "execution_count": 22,
      "outputs": [
        {
          "output_type": "execute_result",
          "data": {
            "text/plain": [
              "Manufacturer           0\n",
              "Model                  0\n",
              "Sales_in_thousands     0\n",
              "__year_resale_value    0\n",
              "Vehicle_type           0\n",
              "Price_in_thousands     0\n",
              "Engine_size            0\n",
              "Horsepower             0\n",
              "Wheelbase              0\n",
              "Width                  0\n",
              "Length                 0\n",
              "Curb_weight            0\n",
              "Fuel_capacity          0\n",
              "Fuel_efficiency        0\n",
              "Latest_Launch          0\n",
              "Power_perf_factor      0\n",
              "dtype: int64"
            ]
          },
          "metadata": {},
          "execution_count": 22
        }
      ]
    },
    {
      "cell_type": "markdown",
      "source": [
        "Cuối cùng, cột \"Model\" có chứa thông tin phân biệt và không thể dùng cho các mô hình học máy sau này. Do đó, ta sẽ bỏ đi cột \"Model\"."
      ],
      "metadata": {
        "id": "mq-FXYfPY7RK"
      }
    },
    {
      "cell_type": "code",
      "source": [
        "new_car_df.drop(['Model'], axis = 1, inplace = True)\n",
        "new_car_df"
      ],
      "metadata": {
        "colab": {
          "base_uri": "https://localhost:8080/",
          "height": 424
        },
        "id": "EOsOdnl8ZYFG",
        "outputId": "43b9ba5e-cdf1-45d6-f5df-f9ec377c94c3"
      },
      "execution_count": 23,
      "outputs": [
        {
          "output_type": "execute_result",
          "data": {
            "text/plain": [
              "    Manufacturer  Sales_in_thousands  __year_resale_value Vehicle_type  \\\n",
              "0          Acura              16.919               16.360    Passenger   \n",
              "1          Acura              39.384               19.875    Passenger   \n",
              "3          Acura               8.588               29.725    Passenger   \n",
              "4           Audi              20.397               22.255    Passenger   \n",
              "5           Audi              18.780               23.555    Passenger   \n",
              "..           ...                 ...                  ...          ...   \n",
              "152        Volvo               3.545               14.010    Passenger   \n",
              "153        Volvo              15.245               14.010    Passenger   \n",
              "154        Volvo              17.531               14.010    Passenger   \n",
              "155        Volvo               3.493               14.010    Passenger   \n",
              "156        Volvo              18.969               14.010    Passenger   \n",
              "\n",
              "     Price_in_thousands  Engine_size  Horsepower  Wheelbase  Width  Length  \\\n",
              "0                 21.50          1.8       140.0      101.2   67.3   172.4   \n",
              "1                 28.40          3.2       225.0      108.1   70.3   192.9   \n",
              "3                 42.00          3.5       210.0      114.6   71.4   196.6   \n",
              "4                 23.99          1.8       150.0      102.6   68.2   178.0   \n",
              "5                 33.95          2.8       200.0      108.7   76.1   192.0   \n",
              "..                  ...          ...         ...        ...    ...     ...   \n",
              "152               24.40          1.9       160.0      100.5   67.6   176.6   \n",
              "153               27.50          2.4       168.0      104.9   69.3   185.9   \n",
              "154               28.80          2.4       168.0      104.9   69.3   186.2   \n",
              "155               45.50          2.3       236.0      104.9   71.5   185.7   \n",
              "156               36.00          2.9       201.0      109.9   72.1   189.8   \n",
              "\n",
              "     Curb_weight  Fuel_capacity  Fuel_efficiency Latest_Launch  \\\n",
              "0          2.639           13.2             28.0    2012-02-02   \n",
              "1          3.517           17.2             25.0    2011-06-03   \n",
              "3          3.850           18.0             22.0    2011-03-10   \n",
              "4          2.998           16.4             27.0    2011-10-08   \n",
              "5          3.561           18.5             22.0    2011-08-09   \n",
              "..           ...            ...              ...           ...   \n",
              "152        3.042           15.8             25.0    2011-09-21   \n",
              "153        3.208           17.9             25.0    2012-11-24   \n",
              "154        3.259           17.9             25.0    2011-06-25   \n",
              "155        3.601           18.5             23.0    2011-04-26   \n",
              "156        3.600           21.1             24.0    2011-11-14   \n",
              "\n",
              "     Power_perf_factor  \n",
              "0            58.280150  \n",
              "1            91.370778  \n",
              "3            91.389779  \n",
              "4            62.777639  \n",
              "5            84.565105  \n",
              "..                 ...  \n",
              "152          66.498812  \n",
              "153          70.654495  \n",
              "154          71.155978  \n",
              "155         101.623357  \n",
              "156          85.735655  \n",
              "\n",
              "[155 rows x 15 columns]"
            ],
            "text/html": [
              "\n",
              "  <div id=\"df-65c329e6-6625-4fd5-acd5-5c50b9c14835\">\n",
              "    <div class=\"colab-df-container\">\n",
              "      <div>\n",
              "<style scoped>\n",
              "    .dataframe tbody tr th:only-of-type {\n",
              "        vertical-align: middle;\n",
              "    }\n",
              "\n",
              "    .dataframe tbody tr th {\n",
              "        vertical-align: top;\n",
              "    }\n",
              "\n",
              "    .dataframe thead th {\n",
              "        text-align: right;\n",
              "    }\n",
              "</style>\n",
              "<table border=\"1\" class=\"dataframe\">\n",
              "  <thead>\n",
              "    <tr style=\"text-align: right;\">\n",
              "      <th></th>\n",
              "      <th>Manufacturer</th>\n",
              "      <th>Sales_in_thousands</th>\n",
              "      <th>__year_resale_value</th>\n",
              "      <th>Vehicle_type</th>\n",
              "      <th>Price_in_thousands</th>\n",
              "      <th>Engine_size</th>\n",
              "      <th>Horsepower</th>\n",
              "      <th>Wheelbase</th>\n",
              "      <th>Width</th>\n",
              "      <th>Length</th>\n",
              "      <th>Curb_weight</th>\n",
              "      <th>Fuel_capacity</th>\n",
              "      <th>Fuel_efficiency</th>\n",
              "      <th>Latest_Launch</th>\n",
              "      <th>Power_perf_factor</th>\n",
              "    </tr>\n",
              "  </thead>\n",
              "  <tbody>\n",
              "    <tr>\n",
              "      <th>0</th>\n",
              "      <td>Acura</td>\n",
              "      <td>16.919</td>\n",
              "      <td>16.360</td>\n",
              "      <td>Passenger</td>\n",
              "      <td>21.50</td>\n",
              "      <td>1.8</td>\n",
              "      <td>140.0</td>\n",
              "      <td>101.2</td>\n",
              "      <td>67.3</td>\n",
              "      <td>172.4</td>\n",
              "      <td>2.639</td>\n",
              "      <td>13.2</td>\n",
              "      <td>28.0</td>\n",
              "      <td>2012-02-02</td>\n",
              "      <td>58.280150</td>\n",
              "    </tr>\n",
              "    <tr>\n",
              "      <th>1</th>\n",
              "      <td>Acura</td>\n",
              "      <td>39.384</td>\n",
              "      <td>19.875</td>\n",
              "      <td>Passenger</td>\n",
              "      <td>28.40</td>\n",
              "      <td>3.2</td>\n",
              "      <td>225.0</td>\n",
              "      <td>108.1</td>\n",
              "      <td>70.3</td>\n",
              "      <td>192.9</td>\n",
              "      <td>3.517</td>\n",
              "      <td>17.2</td>\n",
              "      <td>25.0</td>\n",
              "      <td>2011-06-03</td>\n",
              "      <td>91.370778</td>\n",
              "    </tr>\n",
              "    <tr>\n",
              "      <th>3</th>\n",
              "      <td>Acura</td>\n",
              "      <td>8.588</td>\n",
              "      <td>29.725</td>\n",
              "      <td>Passenger</td>\n",
              "      <td>42.00</td>\n",
              "      <td>3.5</td>\n",
              "      <td>210.0</td>\n",
              "      <td>114.6</td>\n",
              "      <td>71.4</td>\n",
              "      <td>196.6</td>\n",
              "      <td>3.850</td>\n",
              "      <td>18.0</td>\n",
              "      <td>22.0</td>\n",
              "      <td>2011-03-10</td>\n",
              "      <td>91.389779</td>\n",
              "    </tr>\n",
              "    <tr>\n",
              "      <th>4</th>\n",
              "      <td>Audi</td>\n",
              "      <td>20.397</td>\n",
              "      <td>22.255</td>\n",
              "      <td>Passenger</td>\n",
              "      <td>23.99</td>\n",
              "      <td>1.8</td>\n",
              "      <td>150.0</td>\n",
              "      <td>102.6</td>\n",
              "      <td>68.2</td>\n",
              "      <td>178.0</td>\n",
              "      <td>2.998</td>\n",
              "      <td>16.4</td>\n",
              "      <td>27.0</td>\n",
              "      <td>2011-10-08</td>\n",
              "      <td>62.777639</td>\n",
              "    </tr>\n",
              "    <tr>\n",
              "      <th>5</th>\n",
              "      <td>Audi</td>\n",
              "      <td>18.780</td>\n",
              "      <td>23.555</td>\n",
              "      <td>Passenger</td>\n",
              "      <td>33.95</td>\n",
              "      <td>2.8</td>\n",
              "      <td>200.0</td>\n",
              "      <td>108.7</td>\n",
              "      <td>76.1</td>\n",
              "      <td>192.0</td>\n",
              "      <td>3.561</td>\n",
              "      <td>18.5</td>\n",
              "      <td>22.0</td>\n",
              "      <td>2011-08-09</td>\n",
              "      <td>84.565105</td>\n",
              "    </tr>\n",
              "    <tr>\n",
              "      <th>...</th>\n",
              "      <td>...</td>\n",
              "      <td>...</td>\n",
              "      <td>...</td>\n",
              "      <td>...</td>\n",
              "      <td>...</td>\n",
              "      <td>...</td>\n",
              "      <td>...</td>\n",
              "      <td>...</td>\n",
              "      <td>...</td>\n",
              "      <td>...</td>\n",
              "      <td>...</td>\n",
              "      <td>...</td>\n",
              "      <td>...</td>\n",
              "      <td>...</td>\n",
              "      <td>...</td>\n",
              "    </tr>\n",
              "    <tr>\n",
              "      <th>152</th>\n",
              "      <td>Volvo</td>\n",
              "      <td>3.545</td>\n",
              "      <td>14.010</td>\n",
              "      <td>Passenger</td>\n",
              "      <td>24.40</td>\n",
              "      <td>1.9</td>\n",
              "      <td>160.0</td>\n",
              "      <td>100.5</td>\n",
              "      <td>67.6</td>\n",
              "      <td>176.6</td>\n",
              "      <td>3.042</td>\n",
              "      <td>15.8</td>\n",
              "      <td>25.0</td>\n",
              "      <td>2011-09-21</td>\n",
              "      <td>66.498812</td>\n",
              "    </tr>\n",
              "    <tr>\n",
              "      <th>153</th>\n",
              "      <td>Volvo</td>\n",
              "      <td>15.245</td>\n",
              "      <td>14.010</td>\n",
              "      <td>Passenger</td>\n",
              "      <td>27.50</td>\n",
              "      <td>2.4</td>\n",
              "      <td>168.0</td>\n",
              "      <td>104.9</td>\n",
              "      <td>69.3</td>\n",
              "      <td>185.9</td>\n",
              "      <td>3.208</td>\n",
              "      <td>17.9</td>\n",
              "      <td>25.0</td>\n",
              "      <td>2012-11-24</td>\n",
              "      <td>70.654495</td>\n",
              "    </tr>\n",
              "    <tr>\n",
              "      <th>154</th>\n",
              "      <td>Volvo</td>\n",
              "      <td>17.531</td>\n",
              "      <td>14.010</td>\n",
              "      <td>Passenger</td>\n",
              "      <td>28.80</td>\n",
              "      <td>2.4</td>\n",
              "      <td>168.0</td>\n",
              "      <td>104.9</td>\n",
              "      <td>69.3</td>\n",
              "      <td>186.2</td>\n",
              "      <td>3.259</td>\n",
              "      <td>17.9</td>\n",
              "      <td>25.0</td>\n",
              "      <td>2011-06-25</td>\n",
              "      <td>71.155978</td>\n",
              "    </tr>\n",
              "    <tr>\n",
              "      <th>155</th>\n",
              "      <td>Volvo</td>\n",
              "      <td>3.493</td>\n",
              "      <td>14.010</td>\n",
              "      <td>Passenger</td>\n",
              "      <td>45.50</td>\n",
              "      <td>2.3</td>\n",
              "      <td>236.0</td>\n",
              "      <td>104.9</td>\n",
              "      <td>71.5</td>\n",
              "      <td>185.7</td>\n",
              "      <td>3.601</td>\n",
              "      <td>18.5</td>\n",
              "      <td>23.0</td>\n",
              "      <td>2011-04-26</td>\n",
              "      <td>101.623357</td>\n",
              "    </tr>\n",
              "    <tr>\n",
              "      <th>156</th>\n",
              "      <td>Volvo</td>\n",
              "      <td>18.969</td>\n",
              "      <td>14.010</td>\n",
              "      <td>Passenger</td>\n",
              "      <td>36.00</td>\n",
              "      <td>2.9</td>\n",
              "      <td>201.0</td>\n",
              "      <td>109.9</td>\n",
              "      <td>72.1</td>\n",
              "      <td>189.8</td>\n",
              "      <td>3.600</td>\n",
              "      <td>21.1</td>\n",
              "      <td>24.0</td>\n",
              "      <td>2011-11-14</td>\n",
              "      <td>85.735655</td>\n",
              "    </tr>\n",
              "  </tbody>\n",
              "</table>\n",
              "<p>155 rows × 15 columns</p>\n",
              "</div>\n",
              "      <button class=\"colab-df-convert\" onclick=\"convertToInteractive('df-65c329e6-6625-4fd5-acd5-5c50b9c14835')\"\n",
              "              title=\"Convert this dataframe to an interactive table.\"\n",
              "              style=\"display:none;\">\n",
              "        \n",
              "  <svg xmlns=\"http://www.w3.org/2000/svg\" height=\"24px\"viewBox=\"0 0 24 24\"\n",
              "       width=\"24px\">\n",
              "    <path d=\"M0 0h24v24H0V0z\" fill=\"none\"/>\n",
              "    <path d=\"M18.56 5.44l.94 2.06.94-2.06 2.06-.94-2.06-.94-.94-2.06-.94 2.06-2.06.94zm-11 1L8.5 8.5l.94-2.06 2.06-.94-2.06-.94L8.5 2.5l-.94 2.06-2.06.94zm10 10l.94 2.06.94-2.06 2.06-.94-2.06-.94-.94-2.06-.94 2.06-2.06.94z\"/><path d=\"M17.41 7.96l-1.37-1.37c-.4-.4-.92-.59-1.43-.59-.52 0-1.04.2-1.43.59L10.3 9.45l-7.72 7.72c-.78.78-.78 2.05 0 2.83L4 21.41c.39.39.9.59 1.41.59.51 0 1.02-.2 1.41-.59l7.78-7.78 2.81-2.81c.8-.78.8-2.07 0-2.86zM5.41 20L4 18.59l7.72-7.72 1.47 1.35L5.41 20z\"/>\n",
              "  </svg>\n",
              "      </button>\n",
              "      \n",
              "  <style>\n",
              "    .colab-df-container {\n",
              "      display:flex;\n",
              "      flex-wrap:wrap;\n",
              "      gap: 12px;\n",
              "    }\n",
              "\n",
              "    .colab-df-convert {\n",
              "      background-color: #E8F0FE;\n",
              "      border: none;\n",
              "      border-radius: 50%;\n",
              "      cursor: pointer;\n",
              "      display: none;\n",
              "      fill: #1967D2;\n",
              "      height: 32px;\n",
              "      padding: 0 0 0 0;\n",
              "      width: 32px;\n",
              "    }\n",
              "\n",
              "    .colab-df-convert:hover {\n",
              "      background-color: #E2EBFA;\n",
              "      box-shadow: 0px 1px 2px rgba(60, 64, 67, 0.3), 0px 1px 3px 1px rgba(60, 64, 67, 0.15);\n",
              "      fill: #174EA6;\n",
              "    }\n",
              "\n",
              "    [theme=dark] .colab-df-convert {\n",
              "      background-color: #3B4455;\n",
              "      fill: #D2E3FC;\n",
              "    }\n",
              "\n",
              "    [theme=dark] .colab-df-convert:hover {\n",
              "      background-color: #434B5C;\n",
              "      box-shadow: 0px 1px 3px 1px rgba(0, 0, 0, 0.15);\n",
              "      filter: drop-shadow(0px 1px 2px rgba(0, 0, 0, 0.3));\n",
              "      fill: #FFFFFF;\n",
              "    }\n",
              "  </style>\n",
              "\n",
              "      <script>\n",
              "        const buttonEl =\n",
              "          document.querySelector('#df-65c329e6-6625-4fd5-acd5-5c50b9c14835 button.colab-df-convert');\n",
              "        buttonEl.style.display =\n",
              "          google.colab.kernel.accessAllowed ? 'block' : 'none';\n",
              "\n",
              "        async function convertToInteractive(key) {\n",
              "          const element = document.querySelector('#df-65c329e6-6625-4fd5-acd5-5c50b9c14835');\n",
              "          const dataTable =\n",
              "            await google.colab.kernel.invokeFunction('convertToInteractive',\n",
              "                                                     [key], {});\n",
              "          if (!dataTable) return;\n",
              "\n",
              "          const docLinkHtml = 'Like what you see? Visit the ' +\n",
              "            '<a target=\"_blank\" href=https://colab.research.google.com/notebooks/data_table.ipynb>data table notebook</a>'\n",
              "            + ' to learn more about interactive tables.';\n",
              "          element.innerHTML = '';\n",
              "          dataTable['output_type'] = 'display_data';\n",
              "          await google.colab.output.renderOutput(dataTable, element);\n",
              "          const docLink = document.createElement('div');\n",
              "          docLink.innerHTML = docLinkHtml;\n",
              "          element.appendChild(docLink);\n",
              "        }\n",
              "      </script>\n",
              "    </div>\n",
              "  </div>\n",
              "  "
            ]
          },
          "metadata": {},
          "execution_count": 23
        }
      ]
    },
    {
      "cell_type": "markdown",
      "source": [
        "Sau khi xử lý các giá trị bị thiếu, số chiều của dữ liệu đã giảm còn **155 dòng x 15 cột**."
      ],
      "metadata": {
        "id": "ehyWsPqmZi3A"
      }
    },
    {
      "cell_type": "markdown",
      "source": [
        "### Khám phá đặc trưng (Feature Engineering)"
      ],
      "metadata": {
        "id": "rFyw3vnYk13r"
      }
    },
    {
      "cell_type": "markdown",
      "source": [
        "Dựa vào biểu đồ thể hiện giá thành trung bình bán ô tô của mỗi hãng sản xuất ở trên, ta thấy có sự phân chia rõ rệt giữa hãng sản xuất có giá thành trung bình thấp và hãng sản xuất có giá thành trung bình cao ở mức 30. Do đó, ta sẽ chia cột \"Manufacturer\" thành 2 lớp hãng xe sau:\n",
        "- Hãng xe có giá thành trung bình <= 30 được gán nhãn là 1 (giá thấp).\n",
        "- Hãng xe có giá thành trung bình > 30 được gán nhãn là 2 (giá cao).\n",
        "\n",
        "Sau đó, ta sẽ dùng biểu đồ tròn để thể hiện sự phân phối giữa giá cao và giá thấp. Trong đó:\n",
        "- Màu xanh: tỉ lệ % của giá cao.\n",
        "- Màu cam: tỉ lệ % của giá thấp."
      ],
      "metadata": {
        "id": "C0wVfv2rZpdO"
      }
    },
    {
      "cell_type": "code",
      "source": [
        "manufacturer_class = new_car_df[new_car_df['Price_in_thousands'] <= 30]['Manufacturer'].unique()\n",
        "new_car_df['Manufacturer'] = new_car_df['Manufacturer'].apply(lambda x: 1 if x in manufacturer_class else 2)"
      ],
      "metadata": {
        "id": "FmJkD2sBbkcQ"
      },
      "execution_count": 24,
      "outputs": []
    },
    {
      "cell_type": "code",
      "source": [
        "plt.figure(figsize = (12, 8))\n",
        "manufacturer_df = new_car_df['Manufacturer'].value_counts()\n",
        "plt.pie(manufacturer_df, labels = ['Giá thấp', 'Giá cao'], colors = sns.color_palette('pastel'), autopct = '%1.1f%%')\n",
        "plt.title('Biểu đồ thể hiện sự phân phối giữa giá cao và giá thấp')\n",
        "plt.legend()\n",
        "plt.show()"
      ],
      "metadata": {
        "colab": {
          "base_uri": "https://localhost:8080/",
          "height": 483
        },
        "id": "hPHx8LT5rQAP",
        "outputId": "c30dc8a7-403b-4410-b529-ba5a72d85614"
      },
      "execution_count": 25,
      "outputs": [
        {
          "output_type": "display_data",
          "data": {
            "text/plain": [
              "<Figure size 864x576 with 1 Axes>"
            ],
            "image/png": "[encoded data removed]"
          },
          "metadata": {}
        }
      ]
    },
    {
      "cell_type": "markdown",
      "source": [
        "Quan sát biểu đồ trên, ta thấy dữ liệu có sự chênh lệch nhiều giữa giá cao và giá thấp sau khi gán nhãn.\n",
        "\n",
        "Tiếp theo, ta sẽ tạo ra cột \"Age\" để tính số tuổi của mẫu xe. Số tuổi được tính bằng năm hiện tại trừ đi năm của thời điểm ra mắt mẫu xe lấy từ cột \"Latest_Launch\". Sau đó bỏ đi cột \"Latest_Launch\"."
      ],
      "metadata": {
        "id": "2aTWX30kcXQ5"
      }
    },
    {
      "cell_type": "code",
      "source": [
        "current_year = dt.date.today().year\n",
        "new_car_df['Age'] = new_car_df['Latest_Launch'].apply(lambda x: current_year - x.year)\n",
        "new_car_df.drop(['Latest_Launch'], axis = 1, inplace = True)"
      ],
      "metadata": {
        "id": "WGrol7H8ckRO"
      },
      "execution_count": 26,
      "outputs": []
    },
    {
      "cell_type": "code",
      "source": [
        "new_car_df"
      ],
      "metadata": {
        "colab": {
          "base_uri": "https://localhost:8080/",
          "height": 424
        },
        "id": "x_jkDO21t3wK",
        "outputId": "3540e235-04fb-4893-a5f0-32b45500d0c4"
      },
      "execution_count": 27,
      "outputs": [
        {
          "output_type": "execute_result",
          "data": {
            "text/plain": [
              "     Manufacturer  Sales_in_thousands  __year_resale_value Vehicle_type  \\\n",
              "0               1              16.919               16.360    Passenger   \n",
              "1               1              39.384               19.875    Passenger   \n",
              "3               1               8.588               29.725    Passenger   \n",
              "4               1              20.397               22.255    Passenger   \n",
              "5               1              18.780               23.555    Passenger   \n",
              "..            ...                 ...                  ...          ...   \n",
              "152             1               3.545               14.010    Passenger   \n",
              "153             1              15.245               14.010    Passenger   \n",
              "154             1              17.531               14.010    Passenger   \n",
              "155             1               3.493               14.010    Passenger   \n",
              "156             1              18.969               14.010    Passenger   \n",
              "\n",
              "     Price_in_thousands  Engine_size  Horsepower  Wheelbase  Width  Length  \\\n",
              "0                 21.50          1.8       140.0      101.2   67.3   172.4   \n",
              "1                 28.40          3.2       225.0      108.1   70.3   192.9   \n",
              "3                 42.00          3.5       210.0      114.6   71.4   196.6   \n",
              "4                 23.99          1.8       150.0      102.6   68.2   178.0   \n",
              "5                 33.95          2.8       200.0      108.7   76.1   192.0   \n",
              "..                  ...          ...         ...        ...    ...     ...   \n",
              "152               24.40          1.9       160.0      100.5   67.6   176.6   \n",
              "153               27.50          2.4       168.0      104.9   69.3   185.9   \n",
              "154               28.80          2.4       168.0      104.9   69.3   186.2   \n",
              "155               45.50          2.3       236.0      104.9   71.5   185.7   \n",
              "156               36.00          2.9       201.0      109.9   72.1   189.8   \n",
              "\n",
              "     Curb_weight  Fuel_capacity  Fuel_efficiency  Power_perf_factor  Age  \n",
              "0          2.639           13.2             28.0          58.280150   11  \n",
              "1          3.517           17.2             25.0          91.370778   12  \n",
              "3          3.850           18.0             22.0          91.389779   12  \n",
              "4          2.998           16.4             27.0          62.777639   12  \n",
              "5          3.561           18.5             22.0          84.565105   12  \n",
              "..           ...            ...              ...                ...  ...  \n",
              "152        3.042           15.8             25.0          66.498812   12  \n",
              "153        3.208           17.9             25.0          70.654495   11  \n",
              "154        3.259           17.9             25.0          71.155978   12  \n",
              "155        3.601           18.5             23.0         101.623357   12  \n",
              "156        3.600           21.1             24.0          85.735655   12  \n",
              "\n",
              "[155 rows x 15 columns]"
            ],
            "text/html": [
              "\n",
              "  <div id=\"df-85b83233-af64-4416-93ba-acdd57f3851e\">\n",
              "    <div class=\"colab-df-container\">\n",
              "      <div>\n",
              "<style scoped>\n",
              "    .dataframe tbody tr th:only-of-type {\n",
              "        vertical-align: middle;\n",
              "    }\n",
              "\n",
              "    .dataframe tbody tr th {\n",
              "        vertical-align: top;\n",
              "    }\n",
              "\n",
              "    .dataframe thead th {\n",
              "        text-align: right;\n",
              "    }\n",
              "</style>\n",
              "<table border=\"1\" class=\"dataframe\">\n",
              "  <thead>\n",
              "    <tr style=\"text-align: right;\">\n",
              "      <th></th>\n",
              "      <th>Manufacturer</th>\n",
              "      <th>Sales_in_thousands</th>\n",
              "      <th>__year_resale_value</th>\n",
              "      <th>Vehicle_type</th>\n",
              "      <th>Price_in_thousands</th>\n",
              "      <th>Engine_size</th>\n",
              "      <th>Horsepower</th>\n",
              "      <th>Wheelbase</th>\n",
              "      <th>Width</th>\n",
              "      <th>Length</th>\n",
              "      <th>Curb_weight</th>\n",
              "      <th>Fuel_capacity</th>\n",
              "      <th>Fuel_efficiency</th>\n",
              "      <th>Power_perf_factor</th>\n",
              "      <th>Age</th>\n",
              "    </tr>\n",
              "  </thead>\n",
              "  <tbody>\n",
              "    <tr>\n",
              "      <th>0</th>\n",
              "      <td>1</td>\n",
              "      <td>16.919</td>\n",
              "      <td>16.360</td>\n",
              "      <td>Passenger</td>\n",
              "      <td>21.50</td>\n",
              "      <td>1.8</td>\n",
              "      <td>140.0</td>\n",
              "      <td>101.2</td>\n",
              "      <td>67.3</td>\n",
              "      <td>172.4</td>\n",
              "      <td>2.639</td>\n",
              "      <td>13.2</td>\n",
              "      <td>28.0</td>\n",
              "      <td>58.280150</td>\n",
              "      <td>11</td>\n",
              "    </tr>\n",
              "    <tr>\n",
              "      <th>1</th>\n",
              "      <td>1</td>\n",
              "      <td>39.384</td>\n",
              "      <td>19.875</td>\n",
              "      <td>Passenger</td>\n",
              "      <td>28.40</td>\n",
              "      <td>3.2</td>\n",
              "      <td>225.0</td>\n",
              "      <td>108.1</td>\n",
              "      <td>70.3</td>\n",
              "      <td>192.9</td>\n",
              "      <td>3.517</td>\n",
              "      <td>17.2</td>\n",
              "      <td>25.0</td>\n",
              "      <td>91.370778</td>\n",
              "      <td>12</td>\n",
              "    </tr>\n",
              "    <tr>\n",
              "      <th>3</th>\n",
              "      <td>1</td>\n",
              "      <td>8.588</td>\n",
              "      <td>29.725</td>\n",
              "      <td>Passenger</td>\n",
              "      <td>42.00</td>\n",
              "      <td>3.5</td>\n",
              "      <td>210.0</td>\n",
              "      <td>114.6</td>\n",
              "      <td>71.4</td>\n",
              "      <td>196.6</td>\n",
              "      <td>3.850</td>\n",
              "      <td>18.0</td>\n",
              "      <td>22.0</td>\n",
              "      <td>91.389779</td>\n",
              "      <td>12</td>\n",
              "    </tr>\n",
              "    <tr>\n",
              "      <th>4</th>\n",
              "      <td>1</td>\n",
              "      <td>20.397</td>\n",
              "      <td>22.255</td>\n",
              "      <td>Passenger</td>\n",
              "      <td>23.99</td>\n",
              "      <td>1.8</td>\n",
              "      <td>150.0</td>\n",
              "      <td>102.6</td>\n",
              "      <td>68.2</td>\n",
              "      <td>178.0</td>\n",
              "      <td>2.998</td>\n",
              "      <td>16.4</td>\n",
              "      <td>27.0</td>\n",
              "      <td>62.777639</td>\n",
              "      <td>12</td>\n",
              "    </tr>\n",
              "    <tr>\n",
              "      <th>5</th>\n",
              "      <td>1</td>\n",
              "      <td>18.780</td>\n",
              "      <td>23.555</td>\n",
              "      <td>Passenger</td>\n",
              "      <td>33.95</td>\n",
              "      <td>2.8</td>\n",
              "      <td>200.0</td>\n",
              "      <td>108.7</td>\n",
              "      <td>76.1</td>\n",
              "      <td>192.0</td>\n",
              "      <td>3.561</td>\n",
              "      <td>18.5</td>\n",
              "      <td>22.0</td>\n",
              "      <td>84.565105</td>\n",
              "      <td>12</td>\n",
              "    </tr>\n",
              "    <tr>\n",
              "      <th>...</th>\n",
              "      <td>...</td>\n",
              "      <td>...</td>\n",
              "      <td>...</td>\n",
              "      <td>...</td>\n",
              "      <td>...</td>\n",
              "      <td>...</td>\n",
              "      <td>...</td>\n",
              "      <td>...</td>\n",
              "      <td>...</td>\n",
              "      <td>...</td>\n",
              "      <td>...</td>\n",
              "      <td>...</td>\n",
              "      <td>...</td>\n",
              "      <td>...</td>\n",
              "      <td>...</td>\n",
              "    </tr>\n",
              "    <tr>\n",
              "      <th>152</th>\n",
              "      <td>1</td>\n",
              "      <td>3.545</td>\n",
              "      <td>14.010</td>\n",
              "      <td>Passenger</td>\n",
              "      <td>24.40</td>\n",
              "      <td>1.9</td>\n",
              "      <td>160.0</td>\n",
              "      <td>100.5</td>\n",
              "      <td>67.6</td>\n",
              "      <td>176.6</td>\n",
              "      <td>3.042</td>\n",
              "      <td>15.8</td>\n",
              "      <td>25.0</td>\n",
              "      <td>66.498812</td>\n",
              "      <td>12</td>\n",
              "    </tr>\n",
              "    <tr>\n",
              "      <th>153</th>\n",
              "      <td>1</td>\n",
              "      <td>15.245</td>\n",
              "      <td>14.010</td>\n",
              "      <td>Passenger</td>\n",
              "      <td>27.50</td>\n",
              "      <td>2.4</td>\n",
              "      <td>168.0</td>\n",
              "      <td>104.9</td>\n",
              "      <td>69.3</td>\n",
              "      <td>185.9</td>\n",
              "      <td>3.208</td>\n",
              "      <td>17.9</td>\n",
              "      <td>25.0</td>\n",
              "      <td>70.654495</td>\n",
              "      <td>11</td>\n",
              "    </tr>\n",
              "    <tr>\n",
              "      <th>154</th>\n",
              "      <td>1</td>\n",
              "      <td>17.531</td>\n",
              "      <td>14.010</td>\n",
              "      <td>Passenger</td>\n",
              "      <td>28.80</td>\n",
              "      <td>2.4</td>\n",
              "      <td>168.0</td>\n",
              "      <td>104.9</td>\n",
              "      <td>69.3</td>\n",
              "      <td>186.2</td>\n",
              "      <td>3.259</td>\n",
              "      <td>17.9</td>\n",
              "      <td>25.0</td>\n",
              "      <td>71.155978</td>\n",
              "      <td>12</td>\n",
              "    </tr>\n",
              "    <tr>\n",
              "      <th>155</th>\n",
              "      <td>1</td>\n",
              "      <td>3.493</td>\n",
              "      <td>14.010</td>\n",
              "      <td>Passenger</td>\n",
              "      <td>45.50</td>\n",
              "      <td>2.3</td>\n",
              "      <td>236.0</td>\n",
              "      <td>104.9</td>\n",
              "      <td>71.5</td>\n",
              "      <td>185.7</td>\n",
              "      <td>3.601</td>\n",
              "      <td>18.5</td>\n",
              "      <td>23.0</td>\n",
              "      <td>101.623357</td>\n",
              "      <td>12</td>\n",
              "    </tr>\n",
              "    <tr>\n",
              "      <th>156</th>\n",
              "      <td>1</td>\n",
              "      <td>18.969</td>\n",
              "      <td>14.010</td>\n",
              "      <td>Passenger</td>\n",
              "      <td>36.00</td>\n",
              "      <td>2.9</td>\n",
              "      <td>201.0</td>\n",
              "      <td>109.9</td>\n",
              "      <td>72.1</td>\n",
              "      <td>189.8</td>\n",
              "      <td>3.600</td>\n",
              "      <td>21.1</td>\n",
              "      <td>24.0</td>\n",
              "      <td>85.735655</td>\n",
              "      <td>12</td>\n",
              "    </tr>\n",
              "  </tbody>\n",
              "</table>\n",
              "<p>155 rows × 15 columns</p>\n",
              "</div>\n",
              "      <button class=\"colab-df-convert\" onclick=\"convertToInteractive('df-85b83233-af64-4416-93ba-acdd57f3851e')\"\n",
              "              title=\"Convert this dataframe to an interactive table.\"\n",
              "              style=\"display:none;\">\n",
              "        \n",
              "  <svg xmlns=\"http://www.w3.org/2000/svg\" height=\"24px\"viewBox=\"0 0 24 24\"\n",
              "       width=\"24px\">\n",
              "    <path d=\"M0 0h24v24H0V0z\" fill=\"none\"/>\n",
              "    <path d=\"M18.56 5.44l.94 2.06.94-2.06 2.06-.94-2.06-.94-.94-2.06-.94 2.06-2.06.94zm-11 1L8.5 8.5l.94-2.06 2.06-.94-2.06-.94L8.5 2.5l-.94 2.06-2.06.94zm10 10l.94 2.06.94-2.06 2.06-.94-2.06-.94-.94-2.06-.94 2.06-2.06.94z\"/><path d=\"M17.41 7.96l-1.37-1.37c-.4-.4-.92-.59-1.43-.59-.52 0-1.04.2-1.43.59L10.3 9.45l-7.72 7.72c-.78.78-.78 2.05 0 2.83L4 21.41c.39.39.9.59 1.41.59.51 0 1.02-.2 1.41-.59l7.78-7.78 2.81-2.81c.8-.78.8-2.07 0-2.86zM5.41 20L4 18.59l7.72-7.72 1.47 1.35L5.41 20z\"/>\n",
              "  </svg>\n",
              "      </button>\n",
              "      \n",
              "  <style>\n",
              "    .colab-df-container {\n",
              "      display:flex;\n",
              "      flex-wrap:wrap;\n",
              "      gap: 12px;\n",
              "    }\n",
              "\n",
              "    .colab-df-convert {\n",
              "      background-color: #E8F0FE;\n",
              "      border: none;\n",
              "      border-radius: 50%;\n",
              "      cursor: pointer;\n",
              "      display: none;\n",
              "      fill: #1967D2;\n",
              "      height: 32px;\n",
              "      padding: 0 0 0 0;\n",
              "      width: 32px;\n",
              "    }\n",
              "\n",
              "    .colab-df-convert:hover {\n",
              "      background-color: #E2EBFA;\n",
              "      box-shadow: 0px 1px 2px rgba(60, 64, 67, 0.3), 0px 1px 3px 1px rgba(60, 64, 67, 0.15);\n",
              "      fill: #174EA6;\n",
              "    }\n",
              "\n",
              "    [theme=dark] .colab-df-convert {\n",
              "      background-color: #3B4455;\n",
              "      fill: #D2E3FC;\n",
              "    }\n",
              "\n",
              "    [theme=dark] .colab-df-convert:hover {\n",
              "      background-color: #434B5C;\n",
              "      box-shadow: 0px 1px 3px 1px rgba(0, 0, 0, 0.15);\n",
              "      filter: drop-shadow(0px 1px 2px rgba(0, 0, 0, 0.3));\n",
              "      fill: #FFFFFF;\n",
              "    }\n",
              "  </style>\n",
              "\n",
              "      <script>\n",
              "        const buttonEl =\n",
              "          document.querySelector('#df-85b83233-af64-4416-93ba-acdd57f3851e button.colab-df-convert');\n",
              "        buttonEl.style.display =\n",
              "          google.colab.kernel.accessAllowed ? 'block' : 'none';\n",
              "\n",
              "        async function convertToInteractive(key) {\n",
              "          const element = document.querySelector('#df-85b83233-af64-4416-93ba-acdd57f3851e');\n",
              "          const dataTable =\n",
              "            await google.colab.kernel.invokeFunction('convertToInteractive',\n",
              "                                                     [key], {});\n",
              "          if (!dataTable) return;\n",
              "\n",
              "          const docLinkHtml = 'Like what you see? Visit the ' +\n",
              "            '<a target=\"_blank\" href=https://colab.research.google.com/notebooks/data_table.ipynb>data table notebook</a>'\n",
              "            + ' to learn more about interactive tables.';\n",
              "          element.innerHTML = '';\n",
              "          dataTable['output_type'] = 'display_data';\n",
              "          await google.colab.output.renderOutput(dataTable, element);\n",
              "          const docLink = document.createElement('div');\n",
              "          docLink.innerHTML = docLinkHtml;\n",
              "          element.appendChild(docLink);\n",
              "        }\n",
              "      </script>\n",
              "    </div>\n",
              "  </div>\n",
              "  "
            ]
          },
          "metadata": {},
          "execution_count": 27
        }
      ]
    },
    {
      "cell_type": "markdown",
      "source": [
        "Có vẻ các cột dữ liệu sau khi khám phá đặc trưng đều ổn."
      ],
      "metadata": {
        "id": "F3xQExTluQ8W"
      }
    },
    {
      "cell_type": "markdown",
      "source": [
        "### Chuyển đổi dữ liệu (Data Trasformation)"
      ],
      "metadata": {
        "id": "2vrpcaMnk3x4"
      }
    },
    {
      "cell_type": "markdown",
      "source": [
        "Ta sẽ dùng các biểu đồ histogram đối với các cột dạng số để biết được sự phân phối của dữ liệu, tuy nhiên ta không cần lấy cột \"Manufacturer\" và \"Age\" vì đã thực hiện tiền xử lý ở bước trên. Với mỗi biểu đồ histogram ta cũng cần tính độ lệch (Skewness) tương ứng. Trong đó:\n",
        "- Nếu độ lệch của đặc trưng đó có giá trị âm chứng tỏ phân phối dữ liệu của đặc trưng đó bị lệch trái.\n",
        "- Nếu độ lệch của đặc trưng đó có giá trị dương chứng tỏ phân phối dữ liệu của đặc trưng đó bị lệch phải.\n",
        "\n",
        "Ta sẽ xét độ lệch của mỗi đặc trưng nếu nhỏ hơn -1 hoặc lớn hơn 1 sẽ được lưu vào `skewed_features` và sẽ được dùng để tiền xử lý đưa về dạng chuẩn. Ta sẽ không xét cột \"Price_in_thousands\" vì có chứa dữ liệu quan trọng không thể thay đổi."
      ],
      "metadata": {
        "id": "ygT2KSNqRFZp"
      }
    },
    {
      "cell_type": "code",
      "source": [
        "transform_features = new_car_df.select_dtypes(include = 'number').columns.drop(['Manufacturer', 'Age'])\n",
        "skewed_features = []\n",
        "\n",
        "fig, axs = plt.subplots(3, 4, figsize = (24, 16))\n",
        "row, col = 0, 0\n",
        "for feature in transform_features:\n",
        "    skewness = new_car_df[feature].skew()\n",
        "    if np.abs(skewness) > 1:\n",
        "        skewed_features.append(feature)\n",
        "    axs[row, col].legend(loc = 'best', labels = ['_'], title = 'Skewness: %.2f'%(skewness))\n",
        "    sns.histplot(new_car_df[feature], kde = True, legend = True, ax = axs[row, col])\n",
        "    col += 1\n",
        "    if col >= 4:\n",
        "        col = 0\n",
        "        row += 1\n",
        "\n",
        "skewed_features.remove('Price_in_thousands')"
      ],
      "metadata": {
        "id": "h7SvjKCmk4K4",
        "colab": {
          "base_uri": "https://localhost:8080/",
          "height": 937
        },
        "outputId": "d17009d9-622f-49ee-ffa0-a9332b11ec90"
      },
      "execution_count": 28,
      "outputs": [
        {
          "output_type": "display_data",
          "data": {
            "text/plain": [
              "<Figure size 1728x1152 with 12 Axes>"
            ],
            "image/png": "[encoded data removed]"
          },
          "metadata": {}
        }
      ]
    },
    {
      "cell_type": "markdown",
      "source": [
        "Từ các biểu đồ trên, ta sẽ loại bỏ độ lệch hiện có của các cột \"Sales_in_thousands\", \"year_resale_value\", \"Engine_size\", \"Horsepower\", \"Fuel_capacity\", \"Power_perf_factor\" và đưa dữ liệu gần giống với phân phối chuẩn bằng phương pháp Box Cox Transformation.\n",
        "\n",
        "Sau đó, ta cũng dùng các biểu đồ histogram đối với các cột dữ liệu thuộc `skewed_features` để biết được sự phân phối của dữ liệu sau khi đã chuyển đổi."
      ],
      "metadata": {
        "id": "8Cb5Hpp9IpPL"
      }
    },
    {
      "cell_type": "code",
      "source": [
        "fig, axs = plt.subplots(2, 3, figsize = (18, 10))\n",
        "row, col = 0, 0\n",
        "for feature in skewed_features:\n",
        "    new_car_df[feature], _ = stats.boxcox(new_car_df[feature])\n",
        "    skewness = new_car_df[feature].skew()\n",
        "    axs[row, col].legend(loc = 'best', labels = ['_'], title = 'Skewness: %.2f'%(skewness))\n",
        "    sns.histplot(new_car_df[feature], kde = True, legend = True, ax = axs[row, col])\n",
        "    col += 1\n",
        "    if col >= 3:\n",
        "        col = 0\n",
        "        row += 1"
      ],
      "metadata": {
        "colab": {
          "base_uri": "https://localhost:8080/",
          "height": 611
        },
        "id": "hwHVfn_VKRl2",
        "outputId": "fbcb8e85-582b-4675-dedb-b741f8de1b83"
      },
      "execution_count": 29,
      "outputs": [
        {
          "output_type": "display_data",
          "data": {
            "text/plain": [
              "<Figure size 1296x720 with 6 Axes>"
            ],
            "image/png": "[encoded data removed]"
          },
          "metadata": {}
        }
      ]
    },
    {
      "cell_type": "markdown",
      "source": [
        "Quan sát các biểu đồ trên, ta thấy độ lệch sau khi tiền xử lý nằm trong khoảng từ -1 đến 1 và biểu đồ có dạng hình chuông chứng tỏ dữ liệu đã được đưa về dạng phân phối chuẩn.\n",
        "\n",
        "Cuối cùng, ta sẽ chuẩn hóa min-max (Min-Max Normalization) các giá trị có trong các cột dạng số để dễ dàng đưa vào các mô hình học máy sau này. Vẫn lưu ý là ta sẽ không chuẩn hóa đối với cột \"Price_in_thousands\"."
      ],
      "metadata": {
        "id": "Nj14lcx4W30c"
      }
    },
    {
      "cell_type": "code",
      "source": [
        "normalizing_features = transform_features.drop('Price_in_thousands')\n",
        "normalizing_features = normalizing_features.insert(len(normalizing_features), 'Age')\n",
        "min_max_scaler = MinMaxScaler()\n",
        "new_car_df[normalizing_features] = min_max_scaler.fit_transform(new_car_df[normalizing_features])"
      ],
      "metadata": {
        "id": "ZUw1k-EeLqEl"
      },
      "execution_count": 30,
      "outputs": []
    },
    {
      "cell_type": "code",
      "source": [
        "new_car_df"
      ],
      "metadata": {
        "colab": {
          "base_uri": "https://localhost:8080/",
          "height": 424
        },
        "id": "xKDY5GNsXo_5",
        "outputId": "a45717b6-7301-482f-df71-6116eba7080a"
      },
      "execution_count": 31,
      "outputs": [
        {
          "output_type": "execute_result",
          "data": {
            "text/plain": [
              "     Manufacturer  Sales_in_thousands  __year_resale_value Vehicle_type  \\\n",
              "0               1            0.415747             0.639523    Passenger   \n",
              "1               1            0.527954             0.709378    Passenger   \n",
              "3               1            0.336772             0.829878    Passenger   \n",
              "4               1            0.439190             0.746298    Passenger   \n",
              "5               1            0.428740             0.763885    Passenger   \n",
              "..            ...                 ...                  ...          ...   \n",
              "152             1            0.246636             0.577568    Passenger   \n",
              "153             1            0.403006             0.577568    Passenger   \n",
              "154             1            0.420145             0.577568    Passenger   \n",
              "155             1            0.245244             0.577568    Passenger   \n",
              "156             1            0.429999             0.577568    Passenger   \n",
              "\n",
              "     Price_in_thousands  Engine_size  Horsepower  Wheelbase     Width  \\\n",
              "0                 21.50     0.298740    0.402920   0.186551  0.271676   \n",
              "1                 28.40     0.578616    0.632042   0.336226  0.445087   \n",
              "3                 42.00     0.621123    0.597623   0.477223  0.508671   \n",
              "4                 23.99     0.298740    0.435156   0.216920  0.323699   \n",
              "5                 33.95     0.514740    0.573513   0.349241  0.780347   \n",
              "..                  ...          ...         ...        ...       ...   \n",
              "152               24.40     0.325560    0.465637   0.171367  0.289017   \n",
              "153               27.50     0.440196    0.488893   0.266811  0.387283   \n",
              "154               28.80     0.440196    0.488893   0.266811  0.387283   \n",
              "155               45.50     0.419462    0.656080   0.266811  0.514451   \n",
              "156               36.00     0.531588    0.575969   0.375271  0.549133   \n",
              "\n",
              "       Length  Curb_weight  Fuel_capacity  Fuel_efficiency  Power_perf_factor  \\\n",
              "0    0.306258     0.202339       0.272054         0.433333           0.424314   \n",
              "1    0.579228     0.441120       0.525932         0.333333           0.640585   \n",
              "3    0.628495     0.531683       0.566108         0.233333           0.640686   \n",
              "4    0.380826     0.299973       0.482804         0.400000           0.459679   \n",
              "5    0.567244     0.453087       0.589864         0.233333           0.602953   \n",
              "..        ...          ...            ...              ...                ...   \n",
              "152  0.362184     0.311939       0.448297         0.333333           0.487180   \n",
              "153  0.486019     0.357085       0.561236         0.333333           0.516228   \n",
              "154  0.490013     0.370955       0.561236         0.333333           0.519624   \n",
              "155  0.483356     0.463965       0.589864         0.266667           0.692564   \n",
              "156  0.537949     0.463693       0.699262         0.300000           0.609624   \n",
              "\n",
              "      Age  \n",
              "0    0.00  \n",
              "1    0.25  \n",
              "3    0.25  \n",
              "4    0.25  \n",
              "5    0.25  \n",
              "..    ...  \n",
              "152  0.25  \n",
              "153  0.00  \n",
              "154  0.25  \n",
              "155  0.25  \n",
              "156  0.25  \n",
              "\n",
              "[155 rows x 15 columns]"
            ],
            "text/html": [
              "\n",
              "  <div id=\"df-e3a3b5aa-4aa1-4cc6-b67d-5684feefbc0b\">\n",
              "    <div class=\"colab-df-container\">\n",
              "      <div>\n",
              "<style scoped>\n",
              "    .dataframe tbody tr th:only-of-type {\n",
              "        vertical-align: middle;\n",
              "    }\n",
              "\n",
              "    .dataframe tbody tr th {\n",
              "        vertical-align: top;\n",
              "    }\n",
              "\n",
              "    .dataframe thead th {\n",
              "        text-align: right;\n",
              "    }\n",
              "</style>\n",
              "<table border=\"1\" class=\"dataframe\">\n",
              "  <thead>\n",
              "    <tr style=\"text-align: right;\">\n",
              "      <th></th>\n",
              "      <th>Manufacturer</th>\n",
              "      <th>Sales_in_thousands</th>\n",
              "      <th>__year_resale_value</th>\n",
              "      <th>Vehicle_type</th>\n",
              "      <th>Price_in_thousands</th>\n",
              "      <th>Engine_size</th>\n",
              "      <th>Horsepower</th>\n",
              "      <th>Wheelbase</th>\n",
              "      <th>Width</th>\n",
              "      <th>Length</th>\n",
              "      <th>Curb_weight</th>\n",
              "      <th>Fuel_capacity</th>\n",
              "      <th>Fuel_efficiency</th>\n",
              "      <th>Power_perf_factor</th>\n",
              "      <th>Age</th>\n",
              "    </tr>\n",
              "  </thead>\n",
              "  <tbody>\n",
              "    <tr>\n",
              "      <th>0</th>\n",
              "      <td>1</td>\n",
              "      <td>0.415747</td>\n",
              "      <td>0.639523</td>\n",
              "      <td>Passenger</td>\n",
              "      <td>21.50</td>\n",
              "      <td>0.298740</td>\n",
              "      <td>0.402920</td>\n",
              "      <td>0.186551</td>\n",
              "      <td>0.271676</td>\n",
              "      <td>0.306258</td>\n",
              "      <td>0.202339</td>\n",
              "      <td>0.272054</td>\n",
              "      <td>0.433333</td>\n",
              "      <td>0.424314</td>\n",
              "      <td>0.00</td>\n",
              "    </tr>\n",
              "    <tr>\n",
              "      <th>1</th>\n",
              "      <td>1</td>\n",
              "      <td>0.527954</td>\n",
              "      <td>0.709378</td>\n",
              "      <td>Passenger</td>\n",
              "      <td>28.40</td>\n",
              "      <td>0.578616</td>\n",
              "      <td>0.632042</td>\n",
              "      <td>0.336226</td>\n",
              "      <td>0.445087</td>\n",
              "      <td>0.579228</td>\n",
              "      <td>0.441120</td>\n",
              "      <td>0.525932</td>\n",
              "      <td>0.333333</td>\n",
              "      <td>0.640585</td>\n",
              "      <td>0.25</td>\n",
              "    </tr>\n",
              "    <tr>\n",
              "      <th>3</th>\n",
              "      <td>1</td>\n",
              "      <td>0.336772</td>\n",
              "      <td>0.829878</td>\n",
              "      <td>Passenger</td>\n",
              "      <td>42.00</td>\n",
              "      <td>0.621123</td>\n",
              "      <td>0.597623</td>\n",
              "      <td>0.477223</td>\n",
              "      <td>0.508671</td>\n",
              "      <td>0.628495</td>\n",
              "      <td>0.531683</td>\n",
              "      <td>0.566108</td>\n",
              "      <td>0.233333</td>\n",
              "      <td>0.640686</td>\n",
              "      <td>0.25</td>\n",
              "    </tr>\n",
              "    <tr>\n",
              "      <th>4</th>\n",
              "      <td>1</td>\n",
              "      <td>0.439190</td>\n",
              "      <td>0.746298</td>\n",
              "      <td>Passenger</td>\n",
              "      <td>23.99</td>\n",
              "      <td>0.298740</td>\n",
              "      <td>0.435156</td>\n",
              "      <td>0.216920</td>\n",
              "      <td>0.323699</td>\n",
              "      <td>0.380826</td>\n",
              "      <td>0.299973</td>\n",
              "      <td>0.482804</td>\n",
              "      <td>0.400000</td>\n",
              "      <td>0.459679</td>\n",
              "      <td>0.25</td>\n",
              "    </tr>\n",
              "    <tr>\n",
              "      <th>5</th>\n",
              "      <td>1</td>\n",
              "      <td>0.428740</td>\n",
              "      <td>0.763885</td>\n",
              "      <td>Passenger</td>\n",
              "      <td>33.95</td>\n",
              "      <td>0.514740</td>\n",
              "      <td>0.573513</td>\n",
              "      <td>0.349241</td>\n",
              "      <td>0.780347</td>\n",
              "      <td>0.567244</td>\n",
              "      <td>0.453087</td>\n",
              "      <td>0.589864</td>\n",
              "      <td>0.233333</td>\n",
              "      <td>0.602953</td>\n",
              "      <td>0.25</td>\n",
              "    </tr>\n",
              "    <tr>\n",
              "      <th>...</th>\n",
              "      <td>...</td>\n",
              "      <td>...</td>\n",
              "      <td>...</td>\n",
              "      <td>...</td>\n",
              "      <td>...</td>\n",
              "      <td>...</td>\n",
              "      <td>...</td>\n",
              "      <td>...</td>\n",
              "      <td>...</td>\n",
              "      <td>...</td>\n",
              "      <td>...</td>\n",
              "      <td>...</td>\n",
              "      <td>...</td>\n",
              "      <td>...</td>\n",
              "      <td>...</td>\n",
              "    </tr>\n",
              "    <tr>\n",
              "      <th>152</th>\n",
              "      <td>1</td>\n",
              "      <td>0.246636</td>\n",
              "      <td>0.577568</td>\n",
              "      <td>Passenger</td>\n",
              "      <td>24.40</td>\n",
              "      <td>0.325560</td>\n",
              "      <td>0.465637</td>\n",
              "      <td>0.171367</td>\n",
              "      <td>0.289017</td>\n",
              "      <td>0.362184</td>\n",
              "      <td>0.311939</td>\n",
              "      <td>0.448297</td>\n",
              "      <td>0.333333</td>\n",
              "      <td>0.487180</td>\n",
              "      <td>0.25</td>\n",
              "    </tr>\n",
              "    <tr>\n",
              "      <th>153</th>\n",
              "      <td>1</td>\n",
              "      <td>0.403006</td>\n",
              "      <td>0.577568</td>\n",
              "      <td>Passenger</td>\n",
              "      <td>27.50</td>\n",
              "      <td>0.440196</td>\n",
              "      <td>0.488893</td>\n",
              "      <td>0.266811</td>\n",
              "      <td>0.387283</td>\n",
              "      <td>0.486019</td>\n",
              "      <td>0.357085</td>\n",
              "      <td>0.561236</td>\n",
              "      <td>0.333333</td>\n",
              "      <td>0.516228</td>\n",
              "      <td>0.00</td>\n",
              "    </tr>\n",
              "    <tr>\n",
              "      <th>154</th>\n",
              "      <td>1</td>\n",
              "      <td>0.420145</td>\n",
              "      <td>0.577568</td>\n",
              "      <td>Passenger</td>\n",
              "      <td>28.80</td>\n",
              "      <td>0.440196</td>\n",
              "      <td>0.488893</td>\n",
              "      <td>0.266811</td>\n",
              "      <td>0.387283</td>\n",
              "      <td>0.490013</td>\n",
              "      <td>0.370955</td>\n",
              "      <td>0.561236</td>\n",
              "      <td>0.333333</td>\n",
              "      <td>0.519624</td>\n",
              "      <td>0.25</td>\n",
              "    </tr>\n",
              "    <tr>\n",
              "      <th>155</th>\n",
              "      <td>1</td>\n",
              "      <td>0.245244</td>\n",
              "      <td>0.577568</td>\n",
              "      <td>Passenger</td>\n",
              "      <td>45.50</td>\n",
              "      <td>0.419462</td>\n",
              "      <td>0.656080</td>\n",
              "      <td>0.266811</td>\n",
              "      <td>0.514451</td>\n",
              "      <td>0.483356</td>\n",
              "      <td>0.463965</td>\n",
              "      <td>0.589864</td>\n",
              "      <td>0.266667</td>\n",
              "      <td>0.692564</td>\n",
              "      <td>0.25</td>\n",
              "    </tr>\n",
              "    <tr>\n",
              "      <th>156</th>\n",
              "      <td>1</td>\n",
              "      <td>0.429999</td>\n",
              "      <td>0.577568</td>\n",
              "      <td>Passenger</td>\n",
              "      <td>36.00</td>\n",
              "      <td>0.531588</td>\n",
              "      <td>0.575969</td>\n",
              "      <td>0.375271</td>\n",
              "      <td>0.549133</td>\n",
              "      <td>0.537949</td>\n",
              "      <td>0.463693</td>\n",
              "      <td>0.699262</td>\n",
              "      <td>0.300000</td>\n",
              "      <td>0.609624</td>\n",
              "      <td>0.25</td>\n",
              "    </tr>\n",
              "  </tbody>\n",
              "</table>\n",
              "<p>155 rows × 15 columns</p>\n",
              "</div>\n",
              "      <button class=\"colab-df-convert\" onclick=\"convertToInteractive('df-e3a3b5aa-4aa1-4cc6-b67d-5684feefbc0b')\"\n",
              "              title=\"Convert this dataframe to an interactive table.\"\n",
              "              style=\"display:none;\">\n",
              "        \n",
              "  <svg xmlns=\"http://www.w3.org/2000/svg\" height=\"24px\"viewBox=\"0 0 24 24\"\n",
              "       width=\"24px\">\n",
              "    <path d=\"M0 0h24v24H0V0z\" fill=\"none\"/>\n",
              "    <path d=\"M18.56 5.44l.94 2.06.94-2.06 2.06-.94-2.06-.94-.94-2.06-.94 2.06-2.06.94zm-11 1L8.5 8.5l.94-2.06 2.06-.94-2.06-.94L8.5 2.5l-.94 2.06-2.06.94zm10 10l.94 2.06.94-2.06 2.06-.94-2.06-.94-.94-2.06-.94 2.06-2.06.94z\"/><path d=\"M17.41 7.96l-1.37-1.37c-.4-.4-.92-.59-1.43-.59-.52 0-1.04.2-1.43.59L10.3 9.45l-7.72 7.72c-.78.78-.78 2.05 0 2.83L4 21.41c.39.39.9.59 1.41.59.51 0 1.02-.2 1.41-.59l7.78-7.78 2.81-2.81c.8-.78.8-2.07 0-2.86zM5.41 20L4 18.59l7.72-7.72 1.47 1.35L5.41 20z\"/>\n",
              "  </svg>\n",
              "      </button>\n",
              "      \n",
              "  <style>\n",
              "    .colab-df-container {\n",
              "      display:flex;\n",
              "      flex-wrap:wrap;\n",
              "      gap: 12px;\n",
              "    }\n",
              "\n",
              "    .colab-df-convert {\n",
              "      background-color: #E8F0FE;\n",
              "      border: none;\n",
              "      border-radius: 50%;\n",
              "      cursor: pointer;\n",
              "      display: none;\n",
              "      fill: #1967D2;\n",
              "      height: 32px;\n",
              "      padding: 0 0 0 0;\n",
              "      width: 32px;\n",
              "    }\n",
              "\n",
              "    .colab-df-convert:hover {\n",
              "      background-color: #E2EBFA;\n",
              "      box-shadow: 0px 1px 2px rgba(60, 64, 67, 0.3), 0px 1px 3px 1px rgba(60, 64, 67, 0.15);\n",
              "      fill: #174EA6;\n",
              "    }\n",
              "\n",
              "    [theme=dark] .colab-df-convert {\n",
              "      background-color: #3B4455;\n",
              "      fill: #D2E3FC;\n",
              "    }\n",
              "\n",
              "    [theme=dark] .colab-df-convert:hover {\n",
              "      background-color: #434B5C;\n",
              "      box-shadow: 0px 1px 3px 1px rgba(0, 0, 0, 0.15);\n",
              "      filter: drop-shadow(0px 1px 2px rgba(0, 0, 0, 0.3));\n",
              "      fill: #FFFFFF;\n",
              "    }\n",
              "  </style>\n",
              "\n",
              "      <script>\n",
              "        const buttonEl =\n",
              "          document.querySelector('#df-e3a3b5aa-4aa1-4cc6-b67d-5684feefbc0b button.colab-df-convert');\n",
              "        buttonEl.style.display =\n",
              "          google.colab.kernel.accessAllowed ? 'block' : 'none';\n",
              "\n",
              "        async function convertToInteractive(key) {\n",
              "          const element = document.querySelector('#df-e3a3b5aa-4aa1-4cc6-b67d-5684feefbc0b');\n",
              "          const dataTable =\n",
              "            await google.colab.kernel.invokeFunction('convertToInteractive',\n",
              "                                                     [key], {});\n",
              "          if (!dataTable) return;\n",
              "\n",
              "          const docLinkHtml = 'Like what you see? Visit the ' +\n",
              "            '<a target=\"_blank\" href=https://colab.research.google.com/notebooks/data_table.ipynb>data table notebook</a>'\n",
              "            + ' to learn more about interactive tables.';\n",
              "          element.innerHTML = '';\n",
              "          dataTable['output_type'] = 'display_data';\n",
              "          await google.colab.output.renderOutput(dataTable, element);\n",
              "          const docLink = document.createElement('div');\n",
              "          docLink.innerHTML = docLinkHtml;\n",
              "          element.appendChild(docLink);\n",
              "        }\n",
              "      </script>\n",
              "    </div>\n",
              "  </div>\n",
              "  "
            ]
          },
          "metadata": {},
          "execution_count": 31
        }
      ]
    },
    {
      "cell_type": "markdown",
      "source": [
        "Các cột dạng số đều có giá trị nằm trong khoảng từ 0 đến 1."
      ],
      "metadata": {
        "id": "ZlBqIGCaYZqB"
      }
    },
    {
      "cell_type": "markdown",
      "source": [
        "### Mã hóa đặc trưng (Feature Encoding)"
      ],
      "metadata": {
        "id": "PHM7v0ysk5cE"
      }
    },
    {
      "cell_type": "markdown",
      "source": [
        "Ta nhận thấy các cột còn lại như \"Manufacturer\" và \"Vehicle_type\" vẫn thuộc dạng phân loại. Để hoàn thiện quá trình biến dữ liệu dạng phân loại về dạng số phù hợp cho các mô hình học máy, ta cần mã hóa các cột này bằng phương pháp One Hot Encoding. Sau đó ta cần đưa cột \"Price_in_thousands\" về cuối bảng."
      ],
      "metadata": {
        "id": "Oob6aNmzYmi9"
      }
    },
    {
      "cell_type": "code",
      "source": [
        "new_car_df = pd.get_dummies(data = new_car_df, columns = ['Manufacturer', 'Vehicle_type'])"
      ],
      "metadata": {
        "id": "ndUAvElQk51Q"
      },
      "execution_count": 32,
      "outputs": []
    },
    {
      "cell_type": "code",
      "source": [
        "rearrange_features = new_car_df.columns.drop('Price_in_thousands')\n",
        "rearrange_features = rearrange_features.insert(len(rearrange_features), 'Price_in_thousands')\n",
        "new_car_df = new_car_df[rearrange_features]"
      ],
      "metadata": {
        "id": "lO25kz5Rk7wk"
      },
      "execution_count": 33,
      "outputs": []
    },
    {
      "cell_type": "code",
      "source": [
        "new_car_df"
      ],
      "metadata": {
        "colab": {
          "base_uri": "https://localhost:8080/",
          "height": 488
        },
        "id": "Q3KGuDY_aAPt",
        "outputId": "a715fd4d-bf8c-470d-9a45-ad495ba9038a"
      },
      "execution_count": 34,
      "outputs": [
        {
          "output_type": "execute_result",
          "data": {
            "text/plain": [
              "     Sales_in_thousands  __year_resale_value  Engine_size  Horsepower  \\\n",
              "0              0.415747             0.639523     0.298740    0.402920   \n",
              "1              0.527954             0.709378     0.578616    0.632042   \n",
              "3              0.336772             0.829878     0.621123    0.597623   \n",
              "4              0.439190             0.746298     0.298740    0.435156   \n",
              "5              0.428740             0.763885     0.514740    0.573513   \n",
              "..                  ...                  ...          ...         ...   \n",
              "152            0.246636             0.577568     0.325560    0.465637   \n",
              "153            0.403006             0.577568     0.440196    0.488893   \n",
              "154            0.420145             0.577568     0.440196    0.488893   \n",
              "155            0.245244             0.577568     0.419462    0.656080   \n",
              "156            0.429999             0.577568     0.531588    0.575969   \n",
              "\n",
              "     Wheelbase     Width    Length  Curb_weight  Fuel_capacity  \\\n",
              "0     0.186551  0.271676  0.306258     0.202339       0.272054   \n",
              "1     0.336226  0.445087  0.579228     0.441120       0.525932   \n",
              "3     0.477223  0.508671  0.628495     0.531683       0.566108   \n",
              "4     0.216920  0.323699  0.380826     0.299973       0.482804   \n",
              "5     0.349241  0.780347  0.567244     0.453087       0.589864   \n",
              "..         ...       ...       ...          ...            ...   \n",
              "152   0.171367  0.289017  0.362184     0.311939       0.448297   \n",
              "153   0.266811  0.387283  0.486019     0.357085       0.561236   \n",
              "154   0.266811  0.387283  0.490013     0.370955       0.561236   \n",
              "155   0.266811  0.514451  0.483356     0.463965       0.589864   \n",
              "156   0.375271  0.549133  0.537949     0.463693       0.699262   \n",
              "\n",
              "     Fuel_efficiency  Power_perf_factor   Age  Manufacturer_1  Manufacturer_2  \\\n",
              "0           0.433333           0.424314  0.00               1               0   \n",
              "1           0.333333           0.640585  0.25               1               0   \n",
              "3           0.233333           0.640686  0.25               1               0   \n",
              "4           0.400000           0.459679  0.25               1               0   \n",
              "5           0.233333           0.602953  0.25               1               0   \n",
              "..               ...                ...   ...             ...             ...   \n",
              "152         0.333333           0.487180  0.25               1               0   \n",
              "153         0.333333           0.516228  0.00               1               0   \n",
              "154         0.333333           0.519624  0.25               1               0   \n",
              "155         0.266667           0.692564  0.25               1               0   \n",
              "156         0.300000           0.609624  0.25               1               0   \n",
              "\n",
              "     Vehicle_type_Car  Vehicle_type_Passenger  Price_in_thousands  \n",
              "0                   0                       1               21.50  \n",
              "1                   0                       1               28.40  \n",
              "3                   0                       1               42.00  \n",
              "4                   0                       1               23.99  \n",
              "5                   0                       1               33.95  \n",
              "..                ...                     ...                 ...  \n",
              "152                 0                       1               24.40  \n",
              "153                 0                       1               27.50  \n",
              "154                 0                       1               28.80  \n",
              "155                 0                       1               45.50  \n",
              "156                 0                       1               36.00  \n",
              "\n",
              "[155 rows x 17 columns]"
            ],
            "text/html": [
              "\n",
              "  <div id=\"df-97fa94d6-3ff3-41e9-ad03-8d9a8d750aed\">\n",
              "    <div class=\"colab-df-container\">\n",
              "      <div>\n",
              "<style scoped>\n",
              "    .dataframe tbody tr th:only-of-type {\n",
              "        vertical-align: middle;\n",
              "    }\n",
              "\n",
              "    .dataframe tbody tr th {\n",
              "        vertical-align: top;\n",
              "    }\n",
              "\n",
              "    .dataframe thead th {\n",
              "        text-align: right;\n",
              "    }\n",
              "</style>\n",
              "<table border=\"1\" class=\"dataframe\">\n",
              "  <thead>\n",
              "    <tr style=\"text-align: right;\">\n",
              "      <th></th>\n",
              "      <th>Sales_in_thousands</th>\n",
              "      <th>__year_resale_value</th>\n",
              "      <th>Engine_size</th>\n",
              "      <th>Horsepower</th>\n",
              "      <th>Wheelbase</th>\n",
              "      <th>Width</th>\n",
              "      <th>Length</th>\n",
              "      <th>Curb_weight</th>\n",
              "      <th>Fuel_capacity</th>\n",
              "      <th>Fuel_efficiency</th>\n",
              "      <th>Power_perf_factor</th>\n",
              "      <th>Age</th>\n",
              "      <th>Manufacturer_1</th>\n",
              "      <th>Manufacturer_2</th>\n",
              "      <th>Vehicle_type_Car</th>\n",
              "      <th>Vehicle_type_Passenger</th>\n",
              "      <th>Price_in_thousands</th>\n",
              "    </tr>\n",
              "  </thead>\n",
              "  <tbody>\n",
              "    <tr>\n",
              "      <th>0</th>\n",
              "      <td>0.415747</td>\n",
              "      <td>0.639523</td>\n",
              "      <td>0.298740</td>\n",
              "      <td>0.402920</td>\n",
              "      <td>0.186551</td>\n",
              "      <td>0.271676</td>\n",
              "      <td>0.306258</td>\n",
              "      <td>0.202339</td>\n",
              "      <td>0.272054</td>\n",
              "      <td>0.433333</td>\n",
              "      <td>0.424314</td>\n",
              "      <td>0.00</td>\n",
              "      <td>1</td>\n",
              "      <td>0</td>\n",
              "      <td>0</td>\n",
              "      <td>1</td>\n",
              "      <td>21.50</td>\n",
              "    </tr>\n",
              "    <tr>\n",
              "      <th>1</th>\n",
              "      <td>0.527954</td>\n",
              "      <td>0.709378</td>\n",
              "      <td>0.578616</td>\n",
              "      <td>0.632042</td>\n",
              "      <td>0.336226</td>\n",
              "      <td>0.445087</td>\n",
              "      <td>0.579228</td>\n",
              "      <td>0.441120</td>\n",
              "      <td>0.525932</td>\n",
              "      <td>0.333333</td>\n",
              "      <td>0.640585</td>\n",
              "      <td>0.25</td>\n",
              "      <td>1</td>\n",
              "      <td>0</td>\n",
              "      <td>0</td>\n",
              "      <td>1</td>\n",
              "      <td>28.40</td>\n",
              "    </tr>\n",
              "    <tr>\n",
              "      <th>3</th>\n",
              "      <td>0.336772</td>\n",
              "      <td>0.829878</td>\n",
              "      <td>0.621123</td>\n",
              "      <td>0.597623</td>\n",
              "      <td>0.477223</td>\n",
              "      <td>0.508671</td>\n",
              "      <td>0.628495</td>\n",
              "      <td>0.531683</td>\n",
              "      <td>0.566108</td>\n",
              "      <td>0.233333</td>\n",
              "      <td>0.640686</td>\n",
              "      <td>0.25</td>\n",
              "      <td>1</td>\n",
              "      <td>0</td>\n",
              "      <td>0</td>\n",
              "      <td>1</td>\n",
              "      <td>42.00</td>\n",
              "    </tr>\n",
              "    <tr>\n",
              "      <th>4</th>\n",
              "      <td>0.439190</td>\n",
              "      <td>0.746298</td>\n",
              "      <td>0.298740</td>\n",
              "      <td>0.435156</td>\n",
              "      <td>0.216920</td>\n",
              "      <td>0.323699</td>\n",
              "      <td>0.380826</td>\n",
              "      <td>0.299973</td>\n",
              "      <td>0.482804</td>\n",
              "      <td>0.400000</td>\n",
              "      <td>0.459679</td>\n",
              "      <td>0.25</td>\n",
              "      <td>1</td>\n",
              "      <td>0</td>\n",
              "      <td>0</td>\n",
              "      <td>1</td>\n",
              "      <td>23.99</td>\n",
              "    </tr>\n",
              "    <tr>\n",
              "      <th>5</th>\n",
              "      <td>0.428740</td>\n",
              "      <td>0.763885</td>\n",
              "      <td>0.514740</td>\n",
              "      <td>0.573513</td>\n",
              "      <td>0.349241</td>\n",
              "      <td>0.780347</td>\n",
              "      <td>0.567244</td>\n",
              "      <td>0.453087</td>\n",
              "      <td>0.589864</td>\n",
              "      <td>0.233333</td>\n",
              "      <td>0.602953</td>\n",
              "      <td>0.25</td>\n",
              "      <td>1</td>\n",
              "      <td>0</td>\n",
              "      <td>0</td>\n",
              "      <td>1</td>\n",
              "      <td>33.95</td>\n",
              "    </tr>\n",
              "    <tr>\n",
              "      <th>...</th>\n",
              "      <td>...</td>\n",
              "      <td>...</td>\n",
              "      <td>...</td>\n",
              "      <td>...</td>\n",
              "      <td>...</td>\n",
              "      <td>...</td>\n",
              "      <td>...</td>\n",
              "      <td>...</td>\n",
              "      <td>...</td>\n",
              "      <td>...</td>\n",
              "      <td>...</td>\n",
              "      <td>...</td>\n",
              "      <td>...</td>\n",
              "      <td>...</td>\n",
              "      <td>...</td>\n",
              "      <td>...</td>\n",
              "      <td>...</td>\n",
              "    </tr>\n",
              "    <tr>\n",
              "      <th>152</th>\n",
              "      <td>0.246636</td>\n",
              "      <td>0.577568</td>\n",
              "      <td>0.325560</td>\n",
              "      <td>0.465637</td>\n",
              "      <td>0.171367</td>\n",
              "      <td>0.289017</td>\n",
              "      <td>0.362184</td>\n",
              "      <td>0.311939</td>\n",
              "      <td>0.448297</td>\n",
              "      <td>0.333333</td>\n",
              "      <td>0.487180</td>\n",
              "      <td>0.25</td>\n",
              "      <td>1</td>\n",
              "      <td>0</td>\n",
              "      <td>0</td>\n",
              "      <td>1</td>\n",
              "      <td>24.40</td>\n",
              "    </tr>\n",
              "    <tr>\n",
              "      <th>153</th>\n",
              "      <td>0.403006</td>\n",
              "      <td>0.577568</td>\n",
              "      <td>0.440196</td>\n",
              "      <td>0.488893</td>\n",
              "      <td>0.266811</td>\n",
              "      <td>0.387283</td>\n",
              "      <td>0.486019</td>\n",
              "      <td>0.357085</td>\n",
              "      <td>0.561236</td>\n",
              "      <td>0.333333</td>\n",
              "      <td>0.516228</td>\n",
              "      <td>0.00</td>\n",
              "      <td>1</td>\n",
              "      <td>0</td>\n",
              "      <td>0</td>\n",
              "      <td>1</td>\n",
              "      <td>27.50</td>\n",
              "    </tr>\n",
              "    <tr>\n",
              "      <th>154</th>\n",
              "      <td>0.420145</td>\n",
              "      <td>0.577568</td>\n",
              "      <td>0.440196</td>\n",
              "      <td>0.488893</td>\n",
              "      <td>0.266811</td>\n",
              "      <td>0.387283</td>\n",
              "      <td>0.490013</td>\n",
              "      <td>0.370955</td>\n",
              "      <td>0.561236</td>\n",
              "      <td>0.333333</td>\n",
              "      <td>0.519624</td>\n",
              "      <td>0.25</td>\n",
              "      <td>1</td>\n",
              "      <td>0</td>\n",
              "      <td>0</td>\n",
              "      <td>1</td>\n",
              "      <td>28.80</td>\n",
              "    </tr>\n",
              "    <tr>\n",
              "      <th>155</th>\n",
              "      <td>0.245244</td>\n",
              "      <td>0.577568</td>\n",
              "      <td>0.419462</td>\n",
              "      <td>0.656080</td>\n",
              "      <td>0.266811</td>\n",
              "      <td>0.514451</td>\n",
              "      <td>0.483356</td>\n",
              "      <td>0.463965</td>\n",
              "      <td>0.589864</td>\n",
              "      <td>0.266667</td>\n",
              "      <td>0.692564</td>\n",
              "      <td>0.25</td>\n",
              "      <td>1</td>\n",
              "      <td>0</td>\n",
              "      <td>0</td>\n",
              "      <td>1</td>\n",
              "      <td>45.50</td>\n",
              "    </tr>\n",
              "    <tr>\n",
              "      <th>156</th>\n",
              "      <td>0.429999</td>\n",
              "      <td>0.577568</td>\n",
              "      <td>0.531588</td>\n",
              "      <td>0.575969</td>\n",
              "      <td>0.375271</td>\n",
              "      <td>0.549133</td>\n",
              "      <td>0.537949</td>\n",
              "      <td>0.463693</td>\n",
              "      <td>0.699262</td>\n",
              "      <td>0.300000</td>\n",
              "      <td>0.609624</td>\n",
              "      <td>0.25</td>\n",
              "      <td>1</td>\n",
              "      <td>0</td>\n",
              "      <td>0</td>\n",
              "      <td>1</td>\n",
              "      <td>36.00</td>\n",
              "    </tr>\n",
              "  </tbody>\n",
              "</table>\n",
              "<p>155 rows × 17 columns</p>\n",
              "</div>\n",
              "      <button class=\"colab-df-convert\" onclick=\"convertToInteractive('df-97fa94d6-3ff3-41e9-ad03-8d9a8d750aed')\"\n",
              "              title=\"Convert this dataframe to an interactive table.\"\n",
              "              style=\"display:none;\">\n",
              "        \n",
              "  <svg xmlns=\"http://www.w3.org/2000/svg\" height=\"24px\"viewBox=\"0 0 24 24\"\n",
              "       width=\"24px\">\n",
              "    <path d=\"M0 0h24v24H0V0z\" fill=\"none\"/>\n",
              "    <path d=\"M18.56 5.44l.94 2.06.94-2.06 2.06-.94-2.06-.94-.94-2.06-.94 2.06-2.06.94zm-11 1L8.5 8.5l.94-2.06 2.06-.94-2.06-.94L8.5 2.5l-.94 2.06-2.06.94zm10 10l.94 2.06.94-2.06 2.06-.94-2.06-.94-.94-2.06-.94 2.06-2.06.94z\"/><path d=\"M17.41 7.96l-1.37-1.37c-.4-.4-.92-.59-1.43-.59-.52 0-1.04.2-1.43.59L10.3 9.45l-7.72 7.72c-.78.78-.78 2.05 0 2.83L4 21.41c.39.39.9.59 1.41.59.51 0 1.02-.2 1.41-.59l7.78-7.78 2.81-2.81c.8-.78.8-2.07 0-2.86zM5.41 20L4 18.59l7.72-7.72 1.47 1.35L5.41 20z\"/>\n",
              "  </svg>\n",
              "      </button>\n",
              "      \n",
              "  <style>\n",
              "    .colab-df-container {\n",
              "      display:flex;\n",
              "      flex-wrap:wrap;\n",
              "      gap: 12px;\n",
              "    }\n",
              "\n",
              "    .colab-df-convert {\n",
              "      background-color: #E8F0FE;\n",
              "      border: none;\n",
              "      border-radius: 50%;\n",
              "      cursor: pointer;\n",
              "      display: none;\n",
              "      fill: #1967D2;\n",
              "      height: 32px;\n",
              "      padding: 0 0 0 0;\n",
              "      width: 32px;\n",
              "    }\n",
              "\n",
              "    .colab-df-convert:hover {\n",
              "      background-color: #E2EBFA;\n",
              "      box-shadow: 0px 1px 2px rgba(60, 64, 67, 0.3), 0px 1px 3px 1px rgba(60, 64, 67, 0.15);\n",
              "      fill: #174EA6;\n",
              "    }\n",
              "\n",
              "    [theme=dark] .colab-df-convert {\n",
              "      background-color: #3B4455;\n",
              "      fill: #D2E3FC;\n",
              "    }\n",
              "\n",
              "    [theme=dark] .colab-df-convert:hover {\n",
              "      background-color: #434B5C;\n",
              "      box-shadow: 0px 1px 3px 1px rgba(0, 0, 0, 0.15);\n",
              "      filter: drop-shadow(0px 1px 2px rgba(0, 0, 0, 0.3));\n",
              "      fill: #FFFFFF;\n",
              "    }\n",
              "  </style>\n",
              "\n",
              "      <script>\n",
              "        const buttonEl =\n",
              "          document.querySelector('#df-97fa94d6-3ff3-41e9-ad03-8d9a8d750aed button.colab-df-convert');\n",
              "        buttonEl.style.display =\n",
              "          google.colab.kernel.accessAllowed ? 'block' : 'none';\n",
              "\n",
              "        async function convertToInteractive(key) {\n",
              "          const element = document.querySelector('#df-97fa94d6-3ff3-41e9-ad03-8d9a8d750aed');\n",
              "          const dataTable =\n",
              "            await google.colab.kernel.invokeFunction('convertToInteractive',\n",
              "                                                     [key], {});\n",
              "          if (!dataTable) return;\n",
              "\n",
              "          const docLinkHtml = 'Like what you see? Visit the ' +\n",
              "            '<a target=\"_blank\" href=https://colab.research.google.com/notebooks/data_table.ipynb>data table notebook</a>'\n",
              "            + ' to learn more about interactive tables.';\n",
              "          element.innerHTML = '';\n",
              "          dataTable['output_type'] = 'display_data';\n",
              "          await google.colab.output.renderOutput(dataTable, element);\n",
              "          const docLink = document.createElement('div');\n",
              "          docLink.innerHTML = docLinkHtml;\n",
              "          element.appendChild(docLink);\n",
              "        }\n",
              "      </script>\n",
              "    </div>\n",
              "  </div>\n",
              "  "
            ]
          },
          "metadata": {},
          "execution_count": 34
        }
      ]
    },
    {
      "cell_type": "markdown",
      "source": [
        "Dữ liệu có vẻ ổn để sẵn sàng đưa vào các mô hình học máy. Giả sử một hệ thống học máy gặp vấn đề về thời gian và tài nguyên khi xử lý dữ liệu, trong mỗi giai đoạn của bước tiền xử lý dữ liệu, ta có thể xuất ra các file csv đã được tiền xử lý và sau mỗi giai đoạn tiếp tục đọc lại file csv đó và thực hiện tiền xử lý, điều này đảm bảo không bị mất mác dữ liệu trong quá trình xử lý và có thể kịp thời xử lý nếu thất bại ở bất kỳ một giai đoạn nào đó, đặc biệt trong trường hợp nếu đây là dữ liệu có khối lượng lớn thì phương án này là hợp lý."
      ],
      "metadata": {
        "id": "svJurszaaE5n"
      }
    }
  ]
}